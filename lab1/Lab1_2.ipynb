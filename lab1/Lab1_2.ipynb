{
  "cells": [
    {
      "cell_type": "markdown",
      "id": "ec6e7d18-6a6e-4a51-a7cd-0a1152604973",
      "metadata": {
        "id": "ec6e7d18-6a6e-4a51-a7cd-0a1152604973"
      },
      "source": [
        "## Лабораторная работа №1 | Вариант 2"
      ]
    },
    {
      "cell_type": "markdown",
      "id": "277877ce-f982-4711-a6a6-2a4a90871409",
      "metadata": {
        "id": "277877ce-f982-4711-a6a6-2a4a90871409"
      },
      "source": [
        "Выполнил: Ефименко Кирилл Игоревич М8О-309Б-22"
      ]
    },
    {
      "cell_type": "markdown",
      "id": "031f025d-84dc-470f-b839-456a76d9636b",
      "metadata": {
        "id": "031f025d-84dc-470f-b839-456a76d9636b"
      },
      "source": [
        "### 1. Numpy"
      ]
    },
    {
      "cell_type": "code",
      "execution_count": 1,
      "id": "8a2c6f8d-e85b-4982-ba6d-77ffdb7d53e8",
      "metadata": {
        "id": "8a2c6f8d-e85b-4982-ba6d-77ffdb7d53e8"
      },
      "outputs": [],
      "source": [
        "import numpy as np"
      ]
    },
    {
      "cell_type": "markdown",
      "id": "6ff3559d-5f3e-4540-9a31-bfb9f42a23da",
      "metadata": {
        "id": "6ff3559d-5f3e-4540-9a31-bfb9f42a23da"
      },
      "source": [
        "1. Создайте матрицу размером 8х8 и заполните ее шахматным рисунком"
      ]
    },
    {
      "cell_type": "code",
      "execution_count": 2,
      "id": "752bc586-1e3f-4085-85c3-4068b781314f",
      "metadata": {
        "colab": {
          "base_uri": "https://localhost:8080/"
        },
        "id": "752bc586-1e3f-4085-85c3-4068b781314f",
        "outputId": "a62876fc-b3a6-4648-82e6-318d4712b0b1"
      },
      "outputs": [
        {
          "output_type": "execute_result",
          "data": {
            "text/plain": [
              "array([[1, 0, 1, 0, 1, 0, 1, 0],\n",
              "       [0, 1, 0, 1, 0, 1, 0, 1],\n",
              "       [1, 0, 1, 0, 1, 0, 1, 0],\n",
              "       [0, 1, 0, 1, 0, 1, 0, 1],\n",
              "       [1, 0, 1, 0, 1, 0, 1, 0],\n",
              "       [0, 1, 0, 1, 0, 1, 0, 1],\n",
              "       [1, 0, 1, 0, 1, 0, 1, 0],\n",
              "       [0, 1, 0, 1, 0, 1, 0, 1]])"
            ]
          },
          "metadata": {},
          "execution_count": 2
        }
      ],
      "source": [
        "# chess field creation 1 - black; 0 - white\n",
        "chess_field = np.zeros((8, 8), dtype=int)\n",
        "chess_field[::2, ::2] = 1\n",
        "chess_field[1::2, 1::2] = 1\n",
        "chess_field"
      ]
    },
    {
      "cell_type": "markdown",
      "id": "0243a0f6-1905-4e2d-9572-9ba49dc003a8",
      "metadata": {
        "id": "0243a0f6-1905-4e2d-9572-9ba49dc003a8"
      },
      "source": [
        "2. Каков результат выполнения следующих выражений?\n",
        "\n",
        "```python\n",
        "np.array(0) / np.array(0)\n",
        "np.array(0) // np.array(0)\n",
        "np.array([np.nan]).astype(int).astype(float)\n",
        "```\n",
        "1) NaN, так как деление на 0 не определено в математике <br>\n",
        "2) 0, не выполняет никаких операций, из-за целочисленного деления, просто возвращает 0 <br>\n",
        "3) [-9.22337204e+18], я предполагаю, что из-за того, что numpy написан на Си, то во время каста в int происходит черная магия и переменная заполняется \"мусором\" из ячейки памяти. А после, происходит обычный каст целого числа в дробное."
      ]
    },
    {
      "cell_type": "code",
      "execution_count": 3,
      "id": "ec6ae581-5adf-459c-bdc7-8b015d9529f6",
      "metadata": {
        "colab": {
          "base_uri": "https://localhost:8080/"
        },
        "id": "ec6ae581-5adf-459c-bdc7-8b015d9529f6",
        "outputId": "8f3a8de5-aa5a-4221-9b6e-912a1e70df1a"
      },
      "outputs": [
        {
          "output_type": "stream",
          "name": "stderr",
          "text": [
            "<ipython-input-3-3585dcb7ab9b>:1: RuntimeWarning: invalid value encountered in divide\n",
            "  np.array(0) / np.array(0)\n"
          ]
        },
        {
          "output_type": "execute_result",
          "data": {
            "text/plain": [
              "nan"
            ]
          },
          "metadata": {},
          "execution_count": 3
        }
      ],
      "source": [
        "np.array(0) / np.array(0)"
      ]
    },
    {
      "cell_type": "code",
      "source": [
        "np.array(0) // np.array(0)"
      ],
      "metadata": {
        "colab": {
          "base_uri": "https://localhost:8080/"
        },
        "id": "2CHwQa96BNmF",
        "outputId": "d731b41d-7830-495f-8d08-9ef4df6edd55"
      },
      "id": "2CHwQa96BNmF",
      "execution_count": 4,
      "outputs": [
        {
          "output_type": "stream",
          "name": "stderr",
          "text": [
            "<ipython-input-4-4764261090d0>:1: RuntimeWarning: divide by zero encountered in floor_divide\n",
            "  np.array(0) // np.array(0)\n"
          ]
        },
        {
          "output_type": "execute_result",
          "data": {
            "text/plain": [
              "0"
            ]
          },
          "metadata": {},
          "execution_count": 4
        }
      ]
    },
    {
      "cell_type": "code",
      "source": [
        "np.array([np.nan]).astype(int).astype(float)"
      ],
      "metadata": {
        "colab": {
          "base_uri": "https://localhost:8080/"
        },
        "id": "d9S4cqitBO2m",
        "outputId": "eed09e51-3af2-4441-dbb7-c6211247aa76"
      },
      "id": "d9S4cqitBO2m",
      "execution_count": 5,
      "outputs": [
        {
          "output_type": "stream",
          "name": "stderr",
          "text": [
            "<ipython-input-5-ea171f4782f5>:1: RuntimeWarning: invalid value encountered in cast\n",
            "  np.array([np.nan]).astype(int).astype(float)\n"
          ]
        },
        {
          "output_type": "execute_result",
          "data": {
            "text/plain": [
              "array([-9.22337204e+18])"
            ]
          },
          "metadata": {},
          "execution_count": 5
        }
      ]
    },
    {
      "cell_type": "markdown",
      "id": "8c7d3811-a555-4c02-ada8-e4a70b9dee46",
      "metadata": {
        "id": "8c7d3811-a555-4c02-ada8-e4a70b9dee46"
      },
      "source": [
        "3. Создайте матрицу-шахматную доску 8х8 используя функцию `tile`"
      ]
    },
    {
      "cell_type": "code",
      "execution_count": 6,
      "id": "12d0ed34-908c-4840-8b81-457e64dd7b0b",
      "metadata": {
        "colab": {
          "base_uri": "https://localhost:8080/"
        },
        "id": "12d0ed34-908c-4840-8b81-457e64dd7b0b",
        "outputId": "67464822-74e6-4f52-e390-35fb95a8fbe8"
      },
      "outputs": [
        {
          "output_type": "execute_result",
          "data": {
            "text/plain": [
              "array([[1, 0, 1, 0, 1, 0, 1, 0],\n",
              "       [0, 1, 0, 1, 0, 1, 0, 1],\n",
              "       [1, 0, 1, 0, 1, 0, 1, 0],\n",
              "       [0, 1, 0, 1, 0, 1, 0, 1],\n",
              "       [1, 0, 1, 0, 1, 0, 1, 0],\n",
              "       [0, 1, 0, 1, 0, 1, 0, 1],\n",
              "       [1, 0, 1, 0, 1, 0, 1, 0],\n",
              "       [0, 1, 0, 1, 0, 1, 0, 1]])"
            ]
          },
          "metadata": {},
          "execution_count": 6
        }
      ],
      "source": [
        "chess_field_template = np.tile(np.array([1, 0]), (1, 4))\n",
        "chess_field_template = np.append(chess_field_template, np.tile(np.array([0, 1]), (1, 4)), axis=0)\n",
        "chess_field_1 = np.tile(chess_field_template, (4, 1))\n",
        "chess_field_1"
      ]
    },
    {
      "cell_type": "markdown",
      "id": "b7ca56e6-a194-4c42-b8a2-307fcf40f648",
      "metadata": {
        "id": "b7ca56e6-a194-4c42-b8a2-307fcf40f648"
      },
      "source": [
        "4. Как округлить до целых массив чисел с плавающей точкой?"
      ]
    },
    {
      "cell_type": "code",
      "execution_count": 7,
      "id": "1b1d64cd-0e28-400f-8d49-a1274947e150",
      "metadata": {
        "colab": {
          "base_uri": "https://localhost:8080/"
        },
        "id": "1b1d64cd-0e28-400f-8d49-a1274947e150",
        "outputId": "f6637b9e-f401-4571-f818-46b200639be4"
      },
      "outputs": [
        {
          "output_type": "stream",
          "name": "stdout",
          "text": [
            "source:  [  1.     13.375  25.75   38.125  50.5    62.875  75.25   87.625 100.   ]\n",
            "result:  [  1  13  25  38  50  62  75  87 100]\n"
          ]
        }
      ],
      "source": [
        "float_array = np.linspace(1, 100, 9)\n",
        "print(\"source: \", float_array)\n",
        "\n",
        "cast_func = np.vectorize(int)\n",
        "int_array = cast_func(float_array)\n",
        "print(\"result: \", int_array)"
      ]
    },
    {
      "cell_type": "markdown",
      "id": "b3b2cd1e-e996-45e0-b9ed-e12ce653a9c3",
      "metadata": {
        "id": "b3b2cd1e-e996-45e0-b9ed-e12ce653a9c3"
      },
      "source": [
        "5. Как найти общие значения между двумя массивами?"
      ]
    },
    {
      "cell_type": "code",
      "execution_count": 8,
      "id": "c40ef785-d750-42ba-ac6e-b777866202a6",
      "metadata": {
        "colab": {
          "base_uri": "https://localhost:8080/"
        },
        "id": "c40ef785-d750-42ba-ac6e-b777866202a6",
        "outputId": "df02958a-29da-491e-e7f2-fa7e341e9db8"
      },
      "outputs": [
        {
          "output_type": "execute_result",
          "data": {
            "text/plain": [
              "array([2, 4, 5])"
            ]
          },
          "metadata": {},
          "execution_count": 8
        }
      ],
      "source": [
        "array1 = np.array([1, 2, 3, 4, 5], dtype=int)\n",
        "array2 = np.array([2, 4, 5, 7, 9], dtype=int)\n",
        "\n",
        "intersect = np.intersect1d(array1, array2)\n",
        "intersect"
      ]
    },
    {
      "cell_type": "markdown",
      "id": "8108b3a8-5ba8-472d-ad6b-095ade8678ef",
      "metadata": {
        "id": "8108b3a8-5ba8-472d-ad6b-095ade8678ef"
      },
      "source": [
        "6. Как вычислить ((A+B)*(-A/2)) на месте (без копирования)?"
      ]
    },
    {
      "cell_type": "code",
      "execution_count": 9,
      "id": "89b58c0a-bd5d-435a-be45-719fdfce662a",
      "metadata": {
        "colab": {
          "base_uri": "https://localhost:8080/"
        },
        "id": "89b58c0a-bd5d-435a-be45-719fdfce662a",
        "outputId": "1dce76ec-f47f-453b-aa09-75ae366ba92a"
      },
      "outputs": [
        {
          "output_type": "execute_result",
          "data": {
            "text/plain": [
              "array([[-120., -120., -120., -120., -120.],\n",
              "       [-120., -120., -120., -120., -120.],\n",
              "       [-120., -120., -120., -120., -120.],\n",
              "       [-120., -120., -120., -120., -120.],\n",
              "       [-120., -120., -120., -120., -120.]])"
            ]
          },
          "metadata": {},
          "execution_count": 9
        }
      ],
      "source": [
        "'''\n",
        "В задаче не сказано, как перемножать(матрично или поэлементно),\n",
        "поэтому я сделал на свой выбор. Для матричного нужно заменить\n",
        "'*' на '@'\n",
        "'''\n",
        "A = np.ones((5, 5), dtype=int) * 12\n",
        "B = np.ones((5, 5), dtype=int) * 8\n",
        "\n",
        "res = ((A+B)*(-A/2))\n",
        "res"
      ]
    },
    {
      "cell_type": "markdown",
      "id": "98511652-db85-4506-a5b8-f94b05d35ce9",
      "metadata": {
        "id": "98511652-db85-4506-a5b8-f94b05d35ce9"
      },
      "source": [
        "7. Рассмотрим случайный вектор с формой 100х2, представляющей координаты, и найдем расстояния от точки к точке"
      ]
    },
    {
      "cell_type": "code",
      "execution_count": 10,
      "id": "ca72cdb0-ed24-460d-81a9-220b850d62c3",
      "metadata": {
        "id": "ca72cdb0-ed24-460d-81a9-220b850d62c3",
        "colab": {
          "base_uri": "https://localhost:8080/"
        },
        "outputId": "429d4f5e-a362-42d4-8c88-8d41427d57c6"
      },
      "outputs": [
        {
          "output_type": "execute_result",
          "data": {
            "text/plain": [
              "array([0.52496308, 0.70109336, 0.80142382, 1.09479177, 0.81217733,\n",
              "       1.28339705, 0.89929022, 0.72962863, 0.93694195, 0.71353158,\n",
              "       0.77802407, 1.0337754 , 0.33758563, 0.77477303, 0.36136878,\n",
              "       0.93360991, 0.33543776, 0.61903042, 0.18349814, 0.5001003 ,\n",
              "       0.97865181, 0.89259125, 0.91476679, 1.01753257, 0.00580495,\n",
              "       0.95923559, 0.92537137, 0.64356125, 0.31062103, 0.69109701,\n",
              "       0.98360097, 0.24489688, 0.1364235 , 0.42119129, 0.30173723,\n",
              "       0.81105738, 0.61882466, 1.04338384, 0.83794288, 0.6527772 ,\n",
              "       0.6932925 , 0.95551115, 0.58203651, 0.55676537, 0.94655786,\n",
              "       0.92807527, 1.21570968, 1.23791017, 1.0044702 , 0.50191925,\n",
              "       0.90227931, 0.83833256, 0.8927367 , 1.00601632, 0.30031437,\n",
              "       0.77183472, 0.94199647, 0.85676142, 0.94983287, 0.8516315 ,\n",
              "       0.31870897, 0.82383233, 0.96752604, 0.94098522, 0.69286436,\n",
              "       0.89211669, 0.97292489, 0.64876954, 0.569723  , 0.75951191,\n",
              "       0.77478919, 0.87354145, 0.88259869, 0.42887891, 0.93944616,\n",
              "       1.07208033, 0.79636562, 0.54963165, 0.36654465, 0.28513197,\n",
              "       1.06267119, 0.98576337, 0.82316523, 0.63547813, 1.07018717,\n",
              "       0.74304945, 0.90398799, 0.99605792, 1.06245254, 1.15999237,\n",
              "       0.94951535, 0.80771943, 0.77599367, 0.97689488, 1.2185211 ,\n",
              "       0.9543507 , 0.85505383, 0.36340901, 1.040069  , 0.75667825,\n",
              "       0.49176771, 0.55687383, 1.00809735, 0.48524857, 0.92688547,\n",
              "       1.2105335 , 0.82180872, 1.00008611, 0.91489679, 0.51162762,\n",
              "       0.79230988, 0.33681067, 0.20305628, 1.00222284, 0.95401608,\n",
              "       0.82028538, 0.50726088, 0.85897624, 0.7773986 , 0.65093428])"
            ]
          },
          "metadata": {},
          "execution_count": 10
        }
      ],
      "source": [
        "random_vec = np.random.rand(120, 2)\n",
        "\n",
        "def dist(a):\n",
        "  return np.sqrt(np.square(a[0]) + np.square(a[1]))\n",
        "\n",
        "np.apply_along_axis(dist, 1, random_vec)"
      ]
    },
    {
      "cell_type": "markdown",
      "id": "1412a70a-2a1e-406e-a227-afc9a47ed659",
      "metadata": {
        "id": "1412a70a-2a1e-406e-a227-afc9a47ed659"
      },
      "source": [
        "8. Как конвертировать массив float(32 bit) к массиву целых чисел (integer 32 bit) in place?"
      ]
    },
    {
      "cell_type": "code",
      "execution_count": 11,
      "id": "22bb8bbf-52dd-4d3c-86c0-c4e9637b909b",
      "metadata": {
        "colab": {
          "base_uri": "https://localhost:8080/"
        },
        "id": "22bb8bbf-52dd-4d3c-86c0-c4e9637b909b",
        "outputId": "8f85ae7c-f8cb-4db8-a1f3-fcc7296e04d5"
      },
      "outputs": [
        {
          "output_type": "execute_result",
          "data": {
            "text/plain": [
              "array([  1,  13,  25,  38,  50,  62,  75,  87, 100])"
            ]
          },
          "metadata": {},
          "execution_count": 11
        }
      ],
      "source": [
        "arr = np.linspace(1, 100, 9)\n",
        "arr.astype(int)"
      ]
    },
    {
      "cell_type": "markdown",
      "id": "f7dc66bf-f7c8-4d78-834b-451651f6839a",
      "metadata": {
        "id": "f7dc66bf-f7c8-4d78-834b-451651f6839a"
      },
      "source": [
        "\n",
        "\n",
        "9. Создайте структурированный массив, представляющий позицию (x, y) и цвет (r, g, b)."
      ]
    },
    {
      "cell_type": "code",
      "execution_count": 12,
      "id": "0ecf5586-d30e-4256-ab93-7ff9bab0b34b",
      "metadata": {
        "id": "0ecf5586-d30e-4256-ab93-7ff9bab0b34b",
        "colab": {
          "base_uri": "https://localhost:8080/"
        },
        "outputId": "a188bca5-8018-43fc-ff06-997e9eed68c4"
      },
      "outputs": [
        {
          "output_type": "execute_result",
          "data": {
            "text/plain": [
              "array([((10., 10.), (255, 255, 255)), (( 3.,  4.), (  0,   0,   0))],\n",
              "      dtype=[('position', [('x', '<f8'), ('y', '<f8')]), ('color', [('r', '<i8'), ('g', '<i8'), ('b', '<i8')])])"
            ]
          },
          "metadata": {},
          "execution_count": 12
        }
      ],
      "source": [
        "dtype = [('position', [('x', float), ('y', float)]), ('color', [('r', int), ('g', int), ('b', int)])]\n",
        "data = np.array([((10, 10), (255, 255, 255)), ((3, 4), (0, 0, 0))], dtype=dtype)\n",
        "data"
      ]
    },
    {
      "cell_type": "markdown",
      "id": "a66194f1-0099-4808-8ebf-5cf10eee5071",
      "metadata": {
        "id": "a66194f1-0099-4808-8ebf-5cf10eee5071"
      },
      "source": [
        "10. Какой эквивалент enumerate для numpy массивов?"
      ]
    },
    {
      "cell_type": "code",
      "execution_count": 13,
      "id": "07ed452c-3f7c-40a7-a5b5-716602a5eed9",
      "metadata": {
        "colab": {
          "base_uri": "https://localhost:8080/"
        },
        "id": "07ed452c-3f7c-40a7-a5b5-716602a5eed9",
        "outputId": "716c5d02-71e2-46c5-c8fb-e9dd9af71422"
      },
      "outputs": [
        {
          "output_type": "stream",
          "name": "stdout",
          "text": [
            "(0,) 1\n",
            "(1,) 2\n",
            "(2,) 3\n",
            "(3,) 4\n"
          ]
        }
      ],
      "source": [
        "# аналог - ndenumerate\n",
        "a = np.array([1, 2, 3, 4])\n",
        "for i, x in np.ndenumerate(a):\n",
        "    print(i, x)"
      ]
    },
    {
      "cell_type": "markdown",
      "id": "5bd0f757-bb01-4afb-b4f0-6821b5c5b2b7",
      "metadata": {
        "id": "5bd0f757-bb01-4afb-b4f0-6821b5c5b2b7"
      },
      "source": [
        "### 2. Pandas"
      ]
    },
    {
      "cell_type": "markdown",
      "id": "bdffd013-e573-4318-8062-65ae1c5e07e8",
      "metadata": {
        "id": "bdffd013-e573-4318-8062-65ae1c5e07e8"
      },
      "source": [
        "Найдите ответы на вопросы или выполните действия с предложенным датасетом\n",
        "\n",
        "Данные о преступлениях, совершенных женщинами в Индии, с демографическими подробностями.\n",
        "\n",
        "Файл: `CrimesOnWomenData.csv`\n",
        "\n",
        "```\n",
        "State - название штата/региона\n",
        "Year - год записи\n",
        "Rape - случаи изнасилования\n",
        "K&A - случаи похищения\n",
        "DD - смерти из-за приданого\n",
        "AoW - нападение на женщин\n",
        "AoM - нападение на женскую скромность(modestity)\n",
        "DV - бытовое насилие\n",
        "WT - торговля женщинами\n",
        "```"
      ]
    },
    {
      "cell_type": "code",
      "execution_count": 14,
      "id": "0778ec2b-a7b2-4738-b771-bb1781986f62",
      "metadata": {
        "id": "0778ec2b-a7b2-4738-b771-bb1781986f62"
      },
      "outputs": [],
      "source": [
        "import pandas as pd"
      ]
    },
    {
      "cell_type": "code",
      "execution_count": 15,
      "id": "bfc45614-d44b-49bd-a55c-c410a95a808f",
      "metadata": {
        "colab": {
          "base_uri": "https://localhost:8080/",
          "height": 206
        },
        "id": "bfc45614-d44b-49bd-a55c-c410a95a808f",
        "outputId": "04e5beac-7d32-4e4d-f4d4-3e4c50989644"
      },
      "outputs": [
        {
          "output_type": "execute_result",
          "data": {
            "text/plain": [
              "   Unnamed: 0              State  Year  Rape   K&A   DD   AoW   AoM    DV  WT\n",
              "0           0     ANDHRA PRADESH  2001   871   765  420  3544  2271  5791   7\n",
              "1           1  ARUNACHAL PRADESH  2001    33    55    0    78     3    11   0\n",
              "2           2              ASSAM  2001   817  1070   59   850     4  1248   0\n",
              "3           3              BIHAR  2001   888   518  859   562    21  1558  83\n",
              "4           4       CHHATTISGARH  2001   959   171   70  1763   161   840   0"
            ],
            "text/html": [
              "\n",
              "  <div id=\"df-e8fa16e9-0c61-48e2-a59f-bf7fd2f4d865\" class=\"colab-df-container\">\n",
              "    <div>\n",
              "<style scoped>\n",
              "    .dataframe tbody tr th:only-of-type {\n",
              "        vertical-align: middle;\n",
              "    }\n",
              "\n",
              "    .dataframe tbody tr th {\n",
              "        vertical-align: top;\n",
              "    }\n",
              "\n",
              "    .dataframe thead th {\n",
              "        text-align: right;\n",
              "    }\n",
              "</style>\n",
              "<table border=\"1\" class=\"dataframe\">\n",
              "  <thead>\n",
              "    <tr style=\"text-align: right;\">\n",
              "      <th></th>\n",
              "      <th>Unnamed: 0</th>\n",
              "      <th>State</th>\n",
              "      <th>Year</th>\n",
              "      <th>Rape</th>\n",
              "      <th>K&amp;A</th>\n",
              "      <th>DD</th>\n",
              "      <th>AoW</th>\n",
              "      <th>AoM</th>\n",
              "      <th>DV</th>\n",
              "      <th>WT</th>\n",
              "    </tr>\n",
              "  </thead>\n",
              "  <tbody>\n",
              "    <tr>\n",
              "      <th>0</th>\n",
              "      <td>0</td>\n",
              "      <td>ANDHRA PRADESH</td>\n",
              "      <td>2001</td>\n",
              "      <td>871</td>\n",
              "      <td>765</td>\n",
              "      <td>420</td>\n",
              "      <td>3544</td>\n",
              "      <td>2271</td>\n",
              "      <td>5791</td>\n",
              "      <td>7</td>\n",
              "    </tr>\n",
              "    <tr>\n",
              "      <th>1</th>\n",
              "      <td>1</td>\n",
              "      <td>ARUNACHAL PRADESH</td>\n",
              "      <td>2001</td>\n",
              "      <td>33</td>\n",
              "      <td>55</td>\n",
              "      <td>0</td>\n",
              "      <td>78</td>\n",
              "      <td>3</td>\n",
              "      <td>11</td>\n",
              "      <td>0</td>\n",
              "    </tr>\n",
              "    <tr>\n",
              "      <th>2</th>\n",
              "      <td>2</td>\n",
              "      <td>ASSAM</td>\n",
              "      <td>2001</td>\n",
              "      <td>817</td>\n",
              "      <td>1070</td>\n",
              "      <td>59</td>\n",
              "      <td>850</td>\n",
              "      <td>4</td>\n",
              "      <td>1248</td>\n",
              "      <td>0</td>\n",
              "    </tr>\n",
              "    <tr>\n",
              "      <th>3</th>\n",
              "      <td>3</td>\n",
              "      <td>BIHAR</td>\n",
              "      <td>2001</td>\n",
              "      <td>888</td>\n",
              "      <td>518</td>\n",
              "      <td>859</td>\n",
              "      <td>562</td>\n",
              "      <td>21</td>\n",
              "      <td>1558</td>\n",
              "      <td>83</td>\n",
              "    </tr>\n",
              "    <tr>\n",
              "      <th>4</th>\n",
              "      <td>4</td>\n",
              "      <td>CHHATTISGARH</td>\n",
              "      <td>2001</td>\n",
              "      <td>959</td>\n",
              "      <td>171</td>\n",
              "      <td>70</td>\n",
              "      <td>1763</td>\n",
              "      <td>161</td>\n",
              "      <td>840</td>\n",
              "      <td>0</td>\n",
              "    </tr>\n",
              "  </tbody>\n",
              "</table>\n",
              "</div>\n",
              "    <div class=\"colab-df-buttons\">\n",
              "\n",
              "  <div class=\"colab-df-container\">\n",
              "    <button class=\"colab-df-convert\" onclick=\"convertToInteractive('df-e8fa16e9-0c61-48e2-a59f-bf7fd2f4d865')\"\n",
              "            title=\"Convert this dataframe to an interactive table.\"\n",
              "            style=\"display:none;\">\n",
              "\n",
              "  <svg xmlns=\"http://www.w3.org/2000/svg\" height=\"24px\" viewBox=\"0 -960 960 960\">\n",
              "    <path d=\"M120-120v-720h720v720H120Zm60-500h600v-160H180v160Zm220 220h160v-160H400v160Zm0 220h160v-160H400v160ZM180-400h160v-160H180v160Zm440 0h160v-160H620v160ZM180-180h160v-160H180v160Zm440 0h160v-160H620v160Z\"/>\n",
              "  </svg>\n",
              "    </button>\n",
              "\n",
              "  <style>\n",
              "    .colab-df-container {\n",
              "      display:flex;\n",
              "      gap: 12px;\n",
              "    }\n",
              "\n",
              "    .colab-df-convert {\n",
              "      background-color: #E8F0FE;\n",
              "      border: none;\n",
              "      border-radius: 50%;\n",
              "      cursor: pointer;\n",
              "      display: none;\n",
              "      fill: #1967D2;\n",
              "      height: 32px;\n",
              "      padding: 0 0 0 0;\n",
              "      width: 32px;\n",
              "    }\n",
              "\n",
              "    .colab-df-convert:hover {\n",
              "      background-color: #E2EBFA;\n",
              "      box-shadow: 0px 1px 2px rgba(60, 64, 67, 0.3), 0px 1px 3px 1px rgba(60, 64, 67, 0.15);\n",
              "      fill: #174EA6;\n",
              "    }\n",
              "\n",
              "    .colab-df-buttons div {\n",
              "      margin-bottom: 4px;\n",
              "    }\n",
              "\n",
              "    [theme=dark] .colab-df-convert {\n",
              "      background-color: #3B4455;\n",
              "      fill: #D2E3FC;\n",
              "    }\n",
              "\n",
              "    [theme=dark] .colab-df-convert:hover {\n",
              "      background-color: #434B5C;\n",
              "      box-shadow: 0px 1px 3px 1px rgba(0, 0, 0, 0.15);\n",
              "      filter: drop-shadow(0px 1px 2px rgba(0, 0, 0, 0.3));\n",
              "      fill: #FFFFFF;\n",
              "    }\n",
              "  </style>\n",
              "\n",
              "    <script>\n",
              "      const buttonEl =\n",
              "        document.querySelector('#df-e8fa16e9-0c61-48e2-a59f-bf7fd2f4d865 button.colab-df-convert');\n",
              "      buttonEl.style.display =\n",
              "        google.colab.kernel.accessAllowed ? 'block' : 'none';\n",
              "\n",
              "      async function convertToInteractive(key) {\n",
              "        const element = document.querySelector('#df-e8fa16e9-0c61-48e2-a59f-bf7fd2f4d865');\n",
              "        const dataTable =\n",
              "          await google.colab.kernel.invokeFunction('convertToInteractive',\n",
              "                                                    [key], {});\n",
              "        if (!dataTable) return;\n",
              "\n",
              "        const docLinkHtml = 'Like what you see? Visit the ' +\n",
              "          '<a target=\"_blank\" href=https://colab.research.google.com/notebooks/data_table.ipynb>data table notebook</a>'\n",
              "          + ' to learn more about interactive tables.';\n",
              "        element.innerHTML = '';\n",
              "        dataTable['output_type'] = 'display_data';\n",
              "        await google.colab.output.renderOutput(dataTable, element);\n",
              "        const docLink = document.createElement('div');\n",
              "        docLink.innerHTML = docLinkHtml;\n",
              "        element.appendChild(docLink);\n",
              "      }\n",
              "    </script>\n",
              "  </div>\n",
              "\n",
              "\n",
              "<div id=\"df-3a86786a-b410-46f1-a498-38ec6e1469e3\">\n",
              "  <button class=\"colab-df-quickchart\" onclick=\"quickchart('df-3a86786a-b410-46f1-a498-38ec6e1469e3')\"\n",
              "            title=\"Suggest charts\"\n",
              "            style=\"display:none;\">\n",
              "\n",
              "<svg xmlns=\"http://www.w3.org/2000/svg\" height=\"24px\"viewBox=\"0 0 24 24\"\n",
              "     width=\"24px\">\n",
              "    <g>\n",
              "        <path d=\"M19 3H5c-1.1 0-2 .9-2 2v14c0 1.1.9 2 2 2h14c1.1 0 2-.9 2-2V5c0-1.1-.9-2-2-2zM9 17H7v-7h2v7zm4 0h-2V7h2v10zm4 0h-2v-4h2v4z\"/>\n",
              "    </g>\n",
              "</svg>\n",
              "  </button>\n",
              "\n",
              "<style>\n",
              "  .colab-df-quickchart {\n",
              "      --bg-color: #E8F0FE;\n",
              "      --fill-color: #1967D2;\n",
              "      --hover-bg-color: #E2EBFA;\n",
              "      --hover-fill-color: #174EA6;\n",
              "      --disabled-fill-color: #AAA;\n",
              "      --disabled-bg-color: #DDD;\n",
              "  }\n",
              "\n",
              "  [theme=dark] .colab-df-quickchart {\n",
              "      --bg-color: #3B4455;\n",
              "      --fill-color: #D2E3FC;\n",
              "      --hover-bg-color: #434B5C;\n",
              "      --hover-fill-color: #FFFFFF;\n",
              "      --disabled-bg-color: #3B4455;\n",
              "      --disabled-fill-color: #666;\n",
              "  }\n",
              "\n",
              "  .colab-df-quickchart {\n",
              "    background-color: var(--bg-color);\n",
              "    border: none;\n",
              "    border-radius: 50%;\n",
              "    cursor: pointer;\n",
              "    display: none;\n",
              "    fill: var(--fill-color);\n",
              "    height: 32px;\n",
              "    padding: 0;\n",
              "    width: 32px;\n",
              "  }\n",
              "\n",
              "  .colab-df-quickchart:hover {\n",
              "    background-color: var(--hover-bg-color);\n",
              "    box-shadow: 0 1px 2px rgba(60, 64, 67, 0.3), 0 1px 3px 1px rgba(60, 64, 67, 0.15);\n",
              "    fill: var(--button-hover-fill-color);\n",
              "  }\n",
              "\n",
              "  .colab-df-quickchart-complete:disabled,\n",
              "  .colab-df-quickchart-complete:disabled:hover {\n",
              "    background-color: var(--disabled-bg-color);\n",
              "    fill: var(--disabled-fill-color);\n",
              "    box-shadow: none;\n",
              "  }\n",
              "\n",
              "  .colab-df-spinner {\n",
              "    border: 2px solid var(--fill-color);\n",
              "    border-color: transparent;\n",
              "    border-bottom-color: var(--fill-color);\n",
              "    animation:\n",
              "      spin 1s steps(1) infinite;\n",
              "  }\n",
              "\n",
              "  @keyframes spin {\n",
              "    0% {\n",
              "      border-color: transparent;\n",
              "      border-bottom-color: var(--fill-color);\n",
              "      border-left-color: var(--fill-color);\n",
              "    }\n",
              "    20% {\n",
              "      border-color: transparent;\n",
              "      border-left-color: var(--fill-color);\n",
              "      border-top-color: var(--fill-color);\n",
              "    }\n",
              "    30% {\n",
              "      border-color: transparent;\n",
              "      border-left-color: var(--fill-color);\n",
              "      border-top-color: var(--fill-color);\n",
              "      border-right-color: var(--fill-color);\n",
              "    }\n",
              "    40% {\n",
              "      border-color: transparent;\n",
              "      border-right-color: var(--fill-color);\n",
              "      border-top-color: var(--fill-color);\n",
              "    }\n",
              "    60% {\n",
              "      border-color: transparent;\n",
              "      border-right-color: var(--fill-color);\n",
              "    }\n",
              "    80% {\n",
              "      border-color: transparent;\n",
              "      border-right-color: var(--fill-color);\n",
              "      border-bottom-color: var(--fill-color);\n",
              "    }\n",
              "    90% {\n",
              "      border-color: transparent;\n",
              "      border-bottom-color: var(--fill-color);\n",
              "    }\n",
              "  }\n",
              "</style>\n",
              "\n",
              "  <script>\n",
              "    async function quickchart(key) {\n",
              "      const quickchartButtonEl =\n",
              "        document.querySelector('#' + key + ' button');\n",
              "      quickchartButtonEl.disabled = true;  // To prevent multiple clicks.\n",
              "      quickchartButtonEl.classList.add('colab-df-spinner');\n",
              "      try {\n",
              "        const charts = await google.colab.kernel.invokeFunction(\n",
              "            'suggestCharts', [key], {});\n",
              "      } catch (error) {\n",
              "        console.error('Error during call to suggestCharts:', error);\n",
              "      }\n",
              "      quickchartButtonEl.classList.remove('colab-df-spinner');\n",
              "      quickchartButtonEl.classList.add('colab-df-quickchart-complete');\n",
              "    }\n",
              "    (() => {\n",
              "      let quickchartButtonEl =\n",
              "        document.querySelector('#df-3a86786a-b410-46f1-a498-38ec6e1469e3 button');\n",
              "      quickchartButtonEl.style.display =\n",
              "        google.colab.kernel.accessAllowed ? 'block' : 'none';\n",
              "    })();\n",
              "  </script>\n",
              "</div>\n",
              "    </div>\n",
              "  </div>\n"
            ],
            "application/vnd.google.colaboratory.intrinsic+json": {
              "type": "dataframe",
              "variable_name": "df",
              "summary": "{\n  \"name\": \"df\",\n  \"rows\": 736,\n  \"fields\": [\n    {\n      \"column\": \"Unnamed: 0\",\n      \"properties\": {\n        \"dtype\": \"number\",\n        \"std\": 212,\n        \"min\": 0,\n        \"max\": 735,\n        \"num_unique_values\": 736,\n        \"samples\": [\n          669,\n          33,\n          549\n        ],\n        \"semantic_type\": \"\",\n        \"description\": \"\"\n      }\n    },\n    {\n      \"column\": \"State\",\n      \"properties\": {\n        \"dtype\": \"category\",\n        \"num_unique_values\": 70,\n        \"samples\": [\n          \"SIKKIM\",\n          \"ANDHRA PRADESH\",\n          \"Manipur\"\n        ],\n        \"semantic_type\": \"\",\n        \"description\": \"\"\n      }\n    },\n    {\n      \"column\": \"Year\",\n      \"properties\": {\n        \"dtype\": \"number\",\n        \"std\": 6,\n        \"min\": 2001,\n        \"max\": 2021,\n        \"num_unique_values\": 21,\n        \"samples\": [\n          2001,\n          2018,\n          2016\n        ],\n        \"semantic_type\": \"\",\n        \"description\": \"\"\n      }\n    },\n    {\n      \"column\": \"Rape\",\n      \"properties\": {\n        \"dtype\": \"number\",\n        \"std\": 977,\n        \"min\": 0,\n        \"max\": 6337,\n        \"num_unique_values\": 498,\n        \"samples\": [\n          2496,\n          1268,\n          720\n        ],\n        \"semantic_type\": \"\",\n        \"description\": \"\"\n      }\n    },\n    {\n      \"column\": \"K&A\",\n      \"properties\": {\n        \"dtype\": \"number\",\n        \"std\": 1993,\n        \"min\": 0,\n        \"max\": 15381,\n        \"num_unique_values\": 491,\n        \"samples\": [\n          281,\n          997,\n          1056\n        ],\n        \"semantic_type\": \"\",\n        \"description\": \"\"\n      }\n    },\n    {\n      \"column\": \"DD\",\n      \"properties\": {\n        \"dtype\": \"number\",\n        \"std\": 424,\n        \"min\": 0,\n        \"max\": 2524,\n        \"num_unique_values\": 319,\n        \"samples\": [\n          751,\n          395,\n          449\n        ],\n        \"semantic_type\": \"\",\n        \"description\": \"\"\n      }\n    },\n    {\n      \"column\": \"AoW\",\n      \"properties\": {\n        \"dtype\": \"number\",\n        \"std\": 2463,\n        \"min\": 0,\n        \"max\": 14853,\n        \"num_unique_values\": 505,\n        \"samples\": [\n          853,\n          2978,\n          5105\n        ],\n        \"semantic_type\": \"\",\n        \"description\": \"\"\n      }\n    },\n    {\n      \"column\": \"AoM\",\n      \"properties\": {\n        \"dtype\": \"number\",\n        \"std\": 806,\n        \"min\": 0,\n        \"max\": 9422,\n        \"num_unique_values\": 322,\n        \"samples\": [\n          93,\n          605,\n          180\n        ],\n        \"semantic_type\": \"\",\n        \"description\": \"\"\n      }\n    },\n    {\n      \"column\": \"DV\",\n      \"properties\": {\n        \"dtype\": \"number\",\n        \"std\": 4042,\n        \"min\": 0,\n        \"max\": 23278,\n        \"num_unique_values\": 488,\n        \"samples\": [\n          1,\n          239,\n          18432\n        ],\n        \"semantic_type\": \"\",\n        \"description\": \"\"\n      }\n    },\n    {\n      \"column\": \"WT\",\n      \"properties\": {\n        \"dtype\": \"number\",\n        \"std\": 79,\n        \"min\": 0,\n        \"max\": 549,\n        \"num_unique_values\": 124,\n        \"samples\": [\n          22,\n          40,\n          420\n        ],\n        \"semantic_type\": \"\",\n        \"description\": \"\"\n      }\n    }\n  ]\n}"
            }
          },
          "metadata": {},
          "execution_count": 15
        }
      ],
      "source": [
        "DF_PATH = '/content/CrimesOnWomenData.csv'\n",
        "df = pd.read_csv(DF_PATH)\n",
        "df.head()"
      ]
    },
    {
      "cell_type": "markdown",
      "id": "1026e8c6-513a-41e3-b2f4-68aae18b8435",
      "metadata": {
        "id": "1026e8c6-513a-41e3-b2f4-68aae18b8435"
      },
      "source": [
        "1. За какие года представлен набор данных?"
      ]
    },
    {
      "cell_type": "code",
      "execution_count": 16,
      "id": "e74655aa-b97c-42e5-b972-e0753ddc2331",
      "metadata": {
        "colab": {
          "base_uri": "https://localhost:8080/"
        },
        "id": "e74655aa-b97c-42e5-b972-e0753ddc2331",
        "outputId": "7383f077-f348-43b7-887c-5f4a51b22f37"
      },
      "outputs": [
        {
          "output_type": "execute_result",
          "data": {
            "text/plain": [
              "array([2001, 2002, 2003, 2004, 2005, 2006, 2007, 2008, 2009, 2010, 2011,\n",
              "       2012, 2013, 2014, 2015, 2016, 2017, 2018, 2019, 2020, 2021])"
            ]
          },
          "metadata": {},
          "execution_count": 16
        }
      ],
      "source": [
        "df['Year'].unique()"
      ]
    },
    {
      "cell_type": "markdown",
      "id": "eee028a5-9311-4a4f-b4ac-1fb75acfb4b3",
      "metadata": {
        "id": "eee028a5-9311-4a4f-b4ac-1fb75acfb4b3"
      },
      "source": [
        "2. Выявите район с самым высоким количеством убийств женщин"
      ]
    },
    {
      "cell_type": "code",
      "execution_count": 17,
      "id": "ac0fb641-96d2-4e7c-88d5-636ce3b699d2",
      "metadata": {
        "id": "ac0fb641-96d2-4e7c-88d5-636ce3b699d2",
        "colab": {
          "base_uri": "https://localhost:8080/",
          "height": 147
        },
        "outputId": "b49efffb-14e3-413d-c1e6-60bca84a9d62"
      },
      "outputs": [
        {
          "output_type": "execute_result",
          "data": {
            "text/plain": [
              "State\n",
              "Uttar Pradesh    21357\n",
              "Name: DD, dtype: int64"
            ],
            "text/html": [
              "<div>\n",
              "<style scoped>\n",
              "    .dataframe tbody tr th:only-of-type {\n",
              "        vertical-align: middle;\n",
              "    }\n",
              "\n",
              "    .dataframe tbody tr th {\n",
              "        vertical-align: top;\n",
              "    }\n",
              "\n",
              "    .dataframe thead th {\n",
              "        text-align: right;\n",
              "    }\n",
              "</style>\n",
              "<table border=\"1\" class=\"dataframe\">\n",
              "  <thead>\n",
              "    <tr style=\"text-align: right;\">\n",
              "      <th></th>\n",
              "      <th>DD</th>\n",
              "    </tr>\n",
              "    <tr>\n",
              "      <th>State</th>\n",
              "      <th></th>\n",
              "    </tr>\n",
              "  </thead>\n",
              "  <tbody>\n",
              "    <tr>\n",
              "      <th>Uttar Pradesh</th>\n",
              "      <td>21357</td>\n",
              "    </tr>\n",
              "  </tbody>\n",
              "</table>\n",
              "</div><br><label><b>dtype:</b> int64</label>"
            ]
          },
          "metadata": {},
          "execution_count": 17
        }
      ],
      "source": [
        "df.groupby('State')['DD'].sum().nlargest(1)"
      ]
    },
    {
      "cell_type": "markdown",
      "id": "cd7979ba-2fa8-4fd3-986d-26cee122da1f",
      "metadata": {
        "id": "cd7979ba-2fa8-4fd3-986d-26cee122da1f"
      },
      "source": [
        "3. Какое среднее число изнасилований женщин в индии наблюдалось в указанные года?"
      ]
    },
    {
      "cell_type": "code",
      "execution_count": 18,
      "id": "3915f77b-116c-482b-8644-2f5f11931af9",
      "metadata": {
        "id": "3915f77b-116c-482b-8644-2f5f11931af9",
        "colab": {
          "base_uri": "https://localhost:8080/"
        },
        "outputId": "57dac724-eaa7-4c35-c510-6c1f95f6644b"
      },
      "outputs": [
        {
          "output_type": "execute_result",
          "data": {
            "text/plain": [
              "727.8559782608696"
            ]
          },
          "metadata": {},
          "execution_count": 18
        }
      ],
      "source": [
        "df['Rape'].mean()"
      ]
    },
    {
      "cell_type": "markdown",
      "id": "1b69ba67-61a8-4765-9795-cfab1a09e929",
      "metadata": {
        "id": "1b69ba67-61a8-4765-9795-cfab1a09e929"
      },
      "source": [
        "4. Выявите район с минимальным числом похищений за период 2001-2003 года"
      ]
    },
    {
      "cell_type": "code",
      "execution_count": 19,
      "id": "1228d2e9-fc56-4240-95c6-c98a8b84c016",
      "metadata": {
        "id": "1228d2e9-fc56-4240-95c6-c98a8b84c016",
        "colab": {
          "base_uri": "https://localhost:8080/",
          "height": 147
        },
        "outputId": "8f2c7954-44c3-4811-b926-47f42a2bee76"
      },
      "outputs": [
        {
          "output_type": "execute_result",
          "data": {
            "text/plain": [
              "State\n",
              "LAKSHADWEEP    0\n",
              "Name: K&A, dtype: int64"
            ],
            "text/html": [
              "<div>\n",
              "<style scoped>\n",
              "    .dataframe tbody tr th:only-of-type {\n",
              "        vertical-align: middle;\n",
              "    }\n",
              "\n",
              "    .dataframe tbody tr th {\n",
              "        vertical-align: top;\n",
              "    }\n",
              "\n",
              "    .dataframe thead th {\n",
              "        text-align: right;\n",
              "    }\n",
              "</style>\n",
              "<table border=\"1\" class=\"dataframe\">\n",
              "  <thead>\n",
              "    <tr style=\"text-align: right;\">\n",
              "      <th></th>\n",
              "      <th>K&amp;A</th>\n",
              "    </tr>\n",
              "    <tr>\n",
              "      <th>State</th>\n",
              "      <th></th>\n",
              "    </tr>\n",
              "  </thead>\n",
              "  <tbody>\n",
              "    <tr>\n",
              "      <th>LAKSHADWEEP</th>\n",
              "      <td>0</td>\n",
              "    </tr>\n",
              "  </tbody>\n",
              "</table>\n",
              "</div><br><label><b>dtype:</b> int64</label>"
            ]
          },
          "metadata": {},
          "execution_count": 19
        }
      ],
      "source": [
        "df[df['Year'].between(2001, 2003)].groupby('State')['K&A'].sum().nsmallest(1)"
      ]
    },
    {
      "cell_type": "markdown",
      "id": "5acec4fd-f740-49a8-a5d8-562d358239c9",
      "metadata": {
        "id": "5acec4fd-f740-49a8-a5d8-562d358239c9"
      },
      "source": [
        "5. Перечислите районы в которых наблюдались наиболее частые случае домашнего насилия за период с 2005 по 2012 года"
      ]
    },
    {
      "cell_type": "code",
      "execution_count": 20,
      "id": "cac8daef-f4e8-4c8b-b7f4-d41a6adf35ed",
      "metadata": {
        "id": "cac8daef-f4e8-4c8b-b7f4-d41a6adf35ed",
        "colab": {
          "base_uri": "https://localhost:8080/",
          "height": 272
        },
        "outputId": "0e20ac26-d7d9-4617-fe06-39154fe37424"
      },
      "outputs": [
        {
          "output_type": "execute_result",
          "data": {
            "text/plain": [
              "State\n",
              "WEST BENGAL       71821\n",
              "ANDHRA PRADESH    62878\n",
              "RAJASTHAN         50834\n",
              "MAHARASHTRA       43271\n",
              "UTTAR PRADESH     42215\n",
              "Name: DV, dtype: int64"
            ],
            "text/html": [
              "<div>\n",
              "<style scoped>\n",
              "    .dataframe tbody tr th:only-of-type {\n",
              "        vertical-align: middle;\n",
              "    }\n",
              "\n",
              "    .dataframe tbody tr th {\n",
              "        vertical-align: top;\n",
              "    }\n",
              "\n",
              "    .dataframe thead th {\n",
              "        text-align: right;\n",
              "    }\n",
              "</style>\n",
              "<table border=\"1\" class=\"dataframe\">\n",
              "  <thead>\n",
              "    <tr style=\"text-align: right;\">\n",
              "      <th></th>\n",
              "      <th>DV</th>\n",
              "    </tr>\n",
              "    <tr>\n",
              "      <th>State</th>\n",
              "      <th></th>\n",
              "    </tr>\n",
              "  </thead>\n",
              "  <tbody>\n",
              "    <tr>\n",
              "      <th>WEST BENGAL</th>\n",
              "      <td>71821</td>\n",
              "    </tr>\n",
              "    <tr>\n",
              "      <th>ANDHRA PRADESH</th>\n",
              "      <td>62878</td>\n",
              "    </tr>\n",
              "    <tr>\n",
              "      <th>RAJASTHAN</th>\n",
              "      <td>50834</td>\n",
              "    </tr>\n",
              "    <tr>\n",
              "      <th>MAHARASHTRA</th>\n",
              "      <td>43271</td>\n",
              "    </tr>\n",
              "    <tr>\n",
              "      <th>UTTAR PRADESH</th>\n",
              "      <td>42215</td>\n",
              "    </tr>\n",
              "  </tbody>\n",
              "</table>\n",
              "</div><br><label><b>dtype:</b> int64</label>"
            ]
          },
          "metadata": {},
          "execution_count": 20
        }
      ],
      "source": [
        "df[df['Year'].between(2005, 2012)].groupby('State')['DV'].sum().nlargest(5)"
      ]
    },
    {
      "cell_type": "markdown",
      "id": "8d6171a9-0f75-4f3e-ac54-95d03d1f70b6",
      "metadata": {
        "id": "8d6171a9-0f75-4f3e-ac54-95d03d1f70b6"
      },
      "source": [
        "6. Выведите названия районов в порядке не возрастания случаев торговли женщинами за 2020 год"
      ]
    },
    {
      "cell_type": "code",
      "execution_count": 21,
      "id": "c64d0892-2fb8-4304-966c-5cbb32b03c0a",
      "metadata": {
        "id": "c64d0892-2fb8-4304-966c-5cbb32b03c0a",
        "colab": {
          "base_uri": "https://localhost:8080/",
          "height": 1000
        },
        "outputId": "64998523-02b2-4efd-a30e-05aaabbe27b0"
      },
      "outputs": [
        {
          "output_type": "execute_result",
          "data": {
            "text/plain": [
              "State\n",
              "Sikkim               231\n",
              "Jharkhand            159\n",
              "Madhya Pradesh        85\n",
              "Punjab                67\n",
              "Uttarakhand           52\n",
              "Andhra Pradesh        48\n",
              "Gujarat               47\n",
              "Bihar                 30\n",
              "Haryana               28\n",
              "Tripura               25\n",
              "Nagaland              19\n",
              "Assam                 18\n",
              "Kerala                14\n",
              "Tamil Nadu            13\n",
              "Odisha                11\n",
              "Uttar Pradesh          8\n",
              "Karnataka              5\n",
              "D&N Haveli             3\n",
              "Chhattisgarh           3\n",
              "Jammu & Kashmir        2\n",
              "Telangana              0\n",
              "Rajasthan              0\n",
              "Puducherry             0\n",
              "A & N Islands          0\n",
              "Lakshadweep            0\n",
              "Mizoram                0\n",
              "Meghalaya              0\n",
              "Manipur                0\n",
              "Maharashtra            0\n",
              "Himachal Pradesh       0\n",
              "Goa                    0\n",
              "Delhi UT               0\n",
              "Daman & Diu            0\n",
              "Chandigarh             0\n",
              "Arunachal Pradesh      0\n",
              "West Bengal            0\n",
              "Name: WT, dtype: int64"
            ],
            "text/html": [
              "<div>\n",
              "<style scoped>\n",
              "    .dataframe tbody tr th:only-of-type {\n",
              "        vertical-align: middle;\n",
              "    }\n",
              "\n",
              "    .dataframe tbody tr th {\n",
              "        vertical-align: top;\n",
              "    }\n",
              "\n",
              "    .dataframe thead th {\n",
              "        text-align: right;\n",
              "    }\n",
              "</style>\n",
              "<table border=\"1\" class=\"dataframe\">\n",
              "  <thead>\n",
              "    <tr style=\"text-align: right;\">\n",
              "      <th></th>\n",
              "      <th>WT</th>\n",
              "    </tr>\n",
              "    <tr>\n",
              "      <th>State</th>\n",
              "      <th></th>\n",
              "    </tr>\n",
              "  </thead>\n",
              "  <tbody>\n",
              "    <tr>\n",
              "      <th>Sikkim</th>\n",
              "      <td>231</td>\n",
              "    </tr>\n",
              "    <tr>\n",
              "      <th>Jharkhand</th>\n",
              "      <td>159</td>\n",
              "    </tr>\n",
              "    <tr>\n",
              "      <th>Madhya Pradesh</th>\n",
              "      <td>85</td>\n",
              "    </tr>\n",
              "    <tr>\n",
              "      <th>Punjab</th>\n",
              "      <td>67</td>\n",
              "    </tr>\n",
              "    <tr>\n",
              "      <th>Uttarakhand</th>\n",
              "      <td>52</td>\n",
              "    </tr>\n",
              "    <tr>\n",
              "      <th>Andhra Pradesh</th>\n",
              "      <td>48</td>\n",
              "    </tr>\n",
              "    <tr>\n",
              "      <th>Gujarat</th>\n",
              "      <td>47</td>\n",
              "    </tr>\n",
              "    <tr>\n",
              "      <th>Bihar</th>\n",
              "      <td>30</td>\n",
              "    </tr>\n",
              "    <tr>\n",
              "      <th>Haryana</th>\n",
              "      <td>28</td>\n",
              "    </tr>\n",
              "    <tr>\n",
              "      <th>Tripura</th>\n",
              "      <td>25</td>\n",
              "    </tr>\n",
              "    <tr>\n",
              "      <th>Nagaland</th>\n",
              "      <td>19</td>\n",
              "    </tr>\n",
              "    <tr>\n",
              "      <th>Assam</th>\n",
              "      <td>18</td>\n",
              "    </tr>\n",
              "    <tr>\n",
              "      <th>Kerala</th>\n",
              "      <td>14</td>\n",
              "    </tr>\n",
              "    <tr>\n",
              "      <th>Tamil Nadu</th>\n",
              "      <td>13</td>\n",
              "    </tr>\n",
              "    <tr>\n",
              "      <th>Odisha</th>\n",
              "      <td>11</td>\n",
              "    </tr>\n",
              "    <tr>\n",
              "      <th>Uttar Pradesh</th>\n",
              "      <td>8</td>\n",
              "    </tr>\n",
              "    <tr>\n",
              "      <th>Karnataka</th>\n",
              "      <td>5</td>\n",
              "    </tr>\n",
              "    <tr>\n",
              "      <th>D&amp;N Haveli</th>\n",
              "      <td>3</td>\n",
              "    </tr>\n",
              "    <tr>\n",
              "      <th>Chhattisgarh</th>\n",
              "      <td>3</td>\n",
              "    </tr>\n",
              "    <tr>\n",
              "      <th>Jammu &amp; Kashmir</th>\n",
              "      <td>2</td>\n",
              "    </tr>\n",
              "    <tr>\n",
              "      <th>Telangana</th>\n",
              "      <td>0</td>\n",
              "    </tr>\n",
              "    <tr>\n",
              "      <th>Rajasthan</th>\n",
              "      <td>0</td>\n",
              "    </tr>\n",
              "    <tr>\n",
              "      <th>Puducherry</th>\n",
              "      <td>0</td>\n",
              "    </tr>\n",
              "    <tr>\n",
              "      <th>A &amp; N Islands</th>\n",
              "      <td>0</td>\n",
              "    </tr>\n",
              "    <tr>\n",
              "      <th>Lakshadweep</th>\n",
              "      <td>0</td>\n",
              "    </tr>\n",
              "    <tr>\n",
              "      <th>Mizoram</th>\n",
              "      <td>0</td>\n",
              "    </tr>\n",
              "    <tr>\n",
              "      <th>Meghalaya</th>\n",
              "      <td>0</td>\n",
              "    </tr>\n",
              "    <tr>\n",
              "      <th>Manipur</th>\n",
              "      <td>0</td>\n",
              "    </tr>\n",
              "    <tr>\n",
              "      <th>Maharashtra</th>\n",
              "      <td>0</td>\n",
              "    </tr>\n",
              "    <tr>\n",
              "      <th>Himachal Pradesh</th>\n",
              "      <td>0</td>\n",
              "    </tr>\n",
              "    <tr>\n",
              "      <th>Goa</th>\n",
              "      <td>0</td>\n",
              "    </tr>\n",
              "    <tr>\n",
              "      <th>Delhi UT</th>\n",
              "      <td>0</td>\n",
              "    </tr>\n",
              "    <tr>\n",
              "      <th>Daman &amp; Diu</th>\n",
              "      <td>0</td>\n",
              "    </tr>\n",
              "    <tr>\n",
              "      <th>Chandigarh</th>\n",
              "      <td>0</td>\n",
              "    </tr>\n",
              "    <tr>\n",
              "      <th>Arunachal Pradesh</th>\n",
              "      <td>0</td>\n",
              "    </tr>\n",
              "    <tr>\n",
              "      <th>West Bengal</th>\n",
              "      <td>0</td>\n",
              "    </tr>\n",
              "  </tbody>\n",
              "</table>\n",
              "</div><br><label><b>dtype:</b> int64</label>"
            ]
          },
          "metadata": {},
          "execution_count": 21
        }
      ],
      "source": [
        "df[df['Year'] == 2020].groupby('State')['WT'].sum().sort_values(ascending=False)"
      ]
    },
    {
      "cell_type": "markdown",
      "id": "a24c2f59-eeaf-47fd-8224-1023d1a8edeb",
      "metadata": {
        "id": "a24c2f59-eeaf-47fd-8224-1023d1a8edeb"
      },
      "source": [
        "Перейдем к следующему набору данных.\n",
        "\n",
        "Файл: `CustomerPurchasingBehaviors.csv`\n",
        "\n",
        "Этот набор данных содержит информацию о профилях клиентов и их покупательском поведении. Данные содержат столбцы, содержащие идентификатор пользователя, возраст, годовой доход, сумму покупки, показатель лояльности (в разбивке по классам), регион и частоту покупок. Он предназначен для анализа тенденций сегментации клиентов и лояльности и может быть использован для различных задач машинного обучения и анализа данных, связанных с поведением клиентов и исследованиями рынка.\n",
        "\n",
        "```\n",
        "user_id - ID клиента\n",
        "age - Возраст\n",
        "annual_income - Годовой доход клиента (в долларах США).\n",
        "purchase_amount - Общая сумма покупок, совершенных клиентом (в долларах США).\n",
        "loyalty_score - Показатель лояльности клиента (значение от 0 до 100).\n",
        "region - Регион, в котором проживает клиент (Север, Юг, Восток, Запад).\n",
        "purchase_frequency - Частота покупок клиентов (количество раз в год).\n",
        "```"
      ]
    },
    {
      "cell_type": "code",
      "execution_count": 22,
      "id": "7407fc92-f656-44b4-bc3a-b86d0a8664ea",
      "metadata": {
        "id": "7407fc92-f656-44b4-bc3a-b86d0a8664ea",
        "colab": {
          "base_uri": "https://localhost:8080/",
          "height": 206
        },
        "outputId": "e5c0e636-4c57-431e-b74d-8e9dadea7f0f"
      },
      "outputs": [
        {
          "output_type": "execute_result",
          "data": {
            "text/plain": [
              "   user_id  age  annual_income  purchase_amount  loyalty_score region  \\\n",
              "0        1   25          45000              200           45.0  North   \n",
              "1        2   34          55000              350           70.0  South   \n",
              "2        3   45          65000              500           80.0   West   \n",
              "3        4   22          30000              150           30.0   East   \n",
              "4        5   29          47000              220           48.0  North   \n",
              "\n",
              "   purchase_frequency  \n",
              "0                  12  \n",
              "1                  18  \n",
              "2                  22  \n",
              "3                  10  \n",
              "4                  13  "
            ],
            "text/html": [
              "\n",
              "  <div id=\"df-f2cb8fc2-7167-4d9f-b6c6-1e2c5a122f32\" class=\"colab-df-container\">\n",
              "    <div>\n",
              "<style scoped>\n",
              "    .dataframe tbody tr th:only-of-type {\n",
              "        vertical-align: middle;\n",
              "    }\n",
              "\n",
              "    .dataframe tbody tr th {\n",
              "        vertical-align: top;\n",
              "    }\n",
              "\n",
              "    .dataframe thead th {\n",
              "        text-align: right;\n",
              "    }\n",
              "</style>\n",
              "<table border=\"1\" class=\"dataframe\">\n",
              "  <thead>\n",
              "    <tr style=\"text-align: right;\">\n",
              "      <th></th>\n",
              "      <th>user_id</th>\n",
              "      <th>age</th>\n",
              "      <th>annual_income</th>\n",
              "      <th>purchase_amount</th>\n",
              "      <th>loyalty_score</th>\n",
              "      <th>region</th>\n",
              "      <th>purchase_frequency</th>\n",
              "    </tr>\n",
              "  </thead>\n",
              "  <tbody>\n",
              "    <tr>\n",
              "      <th>0</th>\n",
              "      <td>1</td>\n",
              "      <td>25</td>\n",
              "      <td>45000</td>\n",
              "      <td>200</td>\n",
              "      <td>45.0</td>\n",
              "      <td>North</td>\n",
              "      <td>12</td>\n",
              "    </tr>\n",
              "    <tr>\n",
              "      <th>1</th>\n",
              "      <td>2</td>\n",
              "      <td>34</td>\n",
              "      <td>55000</td>\n",
              "      <td>350</td>\n",
              "      <td>70.0</td>\n",
              "      <td>South</td>\n",
              "      <td>18</td>\n",
              "    </tr>\n",
              "    <tr>\n",
              "      <th>2</th>\n",
              "      <td>3</td>\n",
              "      <td>45</td>\n",
              "      <td>65000</td>\n",
              "      <td>500</td>\n",
              "      <td>80.0</td>\n",
              "      <td>West</td>\n",
              "      <td>22</td>\n",
              "    </tr>\n",
              "    <tr>\n",
              "      <th>3</th>\n",
              "      <td>4</td>\n",
              "      <td>22</td>\n",
              "      <td>30000</td>\n",
              "      <td>150</td>\n",
              "      <td>30.0</td>\n",
              "      <td>East</td>\n",
              "      <td>10</td>\n",
              "    </tr>\n",
              "    <tr>\n",
              "      <th>4</th>\n",
              "      <td>5</td>\n",
              "      <td>29</td>\n",
              "      <td>47000</td>\n",
              "      <td>220</td>\n",
              "      <td>48.0</td>\n",
              "      <td>North</td>\n",
              "      <td>13</td>\n",
              "    </tr>\n",
              "  </tbody>\n",
              "</table>\n",
              "</div>\n",
              "    <div class=\"colab-df-buttons\">\n",
              "\n",
              "  <div class=\"colab-df-container\">\n",
              "    <button class=\"colab-df-convert\" onclick=\"convertToInteractive('df-f2cb8fc2-7167-4d9f-b6c6-1e2c5a122f32')\"\n",
              "            title=\"Convert this dataframe to an interactive table.\"\n",
              "            style=\"display:none;\">\n",
              "\n",
              "  <svg xmlns=\"http://www.w3.org/2000/svg\" height=\"24px\" viewBox=\"0 -960 960 960\">\n",
              "    <path d=\"M120-120v-720h720v720H120Zm60-500h600v-160H180v160Zm220 220h160v-160H400v160Zm0 220h160v-160H400v160ZM180-400h160v-160H180v160Zm440 0h160v-160H620v160ZM180-180h160v-160H180v160Zm440 0h160v-160H620v160Z\"/>\n",
              "  </svg>\n",
              "    </button>\n",
              "\n",
              "  <style>\n",
              "    .colab-df-container {\n",
              "      display:flex;\n",
              "      gap: 12px;\n",
              "    }\n",
              "\n",
              "    .colab-df-convert {\n",
              "      background-color: #E8F0FE;\n",
              "      border: none;\n",
              "      border-radius: 50%;\n",
              "      cursor: pointer;\n",
              "      display: none;\n",
              "      fill: #1967D2;\n",
              "      height: 32px;\n",
              "      padding: 0 0 0 0;\n",
              "      width: 32px;\n",
              "    }\n",
              "\n",
              "    .colab-df-convert:hover {\n",
              "      background-color: #E2EBFA;\n",
              "      box-shadow: 0px 1px 2px rgba(60, 64, 67, 0.3), 0px 1px 3px 1px rgba(60, 64, 67, 0.15);\n",
              "      fill: #174EA6;\n",
              "    }\n",
              "\n",
              "    .colab-df-buttons div {\n",
              "      margin-bottom: 4px;\n",
              "    }\n",
              "\n",
              "    [theme=dark] .colab-df-convert {\n",
              "      background-color: #3B4455;\n",
              "      fill: #D2E3FC;\n",
              "    }\n",
              "\n",
              "    [theme=dark] .colab-df-convert:hover {\n",
              "      background-color: #434B5C;\n",
              "      box-shadow: 0px 1px 3px 1px rgba(0, 0, 0, 0.15);\n",
              "      filter: drop-shadow(0px 1px 2px rgba(0, 0, 0, 0.3));\n",
              "      fill: #FFFFFF;\n",
              "    }\n",
              "  </style>\n",
              "\n",
              "    <script>\n",
              "      const buttonEl =\n",
              "        document.querySelector('#df-f2cb8fc2-7167-4d9f-b6c6-1e2c5a122f32 button.colab-df-convert');\n",
              "      buttonEl.style.display =\n",
              "        google.colab.kernel.accessAllowed ? 'block' : 'none';\n",
              "\n",
              "      async function convertToInteractive(key) {\n",
              "        const element = document.querySelector('#df-f2cb8fc2-7167-4d9f-b6c6-1e2c5a122f32');\n",
              "        const dataTable =\n",
              "          await google.colab.kernel.invokeFunction('convertToInteractive',\n",
              "                                                    [key], {});\n",
              "        if (!dataTable) return;\n",
              "\n",
              "        const docLinkHtml = 'Like what you see? Visit the ' +\n",
              "          '<a target=\"_blank\" href=https://colab.research.google.com/notebooks/data_table.ipynb>data table notebook</a>'\n",
              "          + ' to learn more about interactive tables.';\n",
              "        element.innerHTML = '';\n",
              "        dataTable['output_type'] = 'display_data';\n",
              "        await google.colab.output.renderOutput(dataTable, element);\n",
              "        const docLink = document.createElement('div');\n",
              "        docLink.innerHTML = docLinkHtml;\n",
              "        element.appendChild(docLink);\n",
              "      }\n",
              "    </script>\n",
              "  </div>\n",
              "\n",
              "\n",
              "<div id=\"df-32486161-2e74-45b0-94ac-7fec39c0aa49\">\n",
              "  <button class=\"colab-df-quickchart\" onclick=\"quickchart('df-32486161-2e74-45b0-94ac-7fec39c0aa49')\"\n",
              "            title=\"Suggest charts\"\n",
              "            style=\"display:none;\">\n",
              "\n",
              "<svg xmlns=\"http://www.w3.org/2000/svg\" height=\"24px\"viewBox=\"0 0 24 24\"\n",
              "     width=\"24px\">\n",
              "    <g>\n",
              "        <path d=\"M19 3H5c-1.1 0-2 .9-2 2v14c0 1.1.9 2 2 2h14c1.1 0 2-.9 2-2V5c0-1.1-.9-2-2-2zM9 17H7v-7h2v7zm4 0h-2V7h2v10zm4 0h-2v-4h2v4z\"/>\n",
              "    </g>\n",
              "</svg>\n",
              "  </button>\n",
              "\n",
              "<style>\n",
              "  .colab-df-quickchart {\n",
              "      --bg-color: #E8F0FE;\n",
              "      --fill-color: #1967D2;\n",
              "      --hover-bg-color: #E2EBFA;\n",
              "      --hover-fill-color: #174EA6;\n",
              "      --disabled-fill-color: #AAA;\n",
              "      --disabled-bg-color: #DDD;\n",
              "  }\n",
              "\n",
              "  [theme=dark] .colab-df-quickchart {\n",
              "      --bg-color: #3B4455;\n",
              "      --fill-color: #D2E3FC;\n",
              "      --hover-bg-color: #434B5C;\n",
              "      --hover-fill-color: #FFFFFF;\n",
              "      --disabled-bg-color: #3B4455;\n",
              "      --disabled-fill-color: #666;\n",
              "  }\n",
              "\n",
              "  .colab-df-quickchart {\n",
              "    background-color: var(--bg-color);\n",
              "    border: none;\n",
              "    border-radius: 50%;\n",
              "    cursor: pointer;\n",
              "    display: none;\n",
              "    fill: var(--fill-color);\n",
              "    height: 32px;\n",
              "    padding: 0;\n",
              "    width: 32px;\n",
              "  }\n",
              "\n",
              "  .colab-df-quickchart:hover {\n",
              "    background-color: var(--hover-bg-color);\n",
              "    box-shadow: 0 1px 2px rgba(60, 64, 67, 0.3), 0 1px 3px 1px rgba(60, 64, 67, 0.15);\n",
              "    fill: var(--button-hover-fill-color);\n",
              "  }\n",
              "\n",
              "  .colab-df-quickchart-complete:disabled,\n",
              "  .colab-df-quickchart-complete:disabled:hover {\n",
              "    background-color: var(--disabled-bg-color);\n",
              "    fill: var(--disabled-fill-color);\n",
              "    box-shadow: none;\n",
              "  }\n",
              "\n",
              "  .colab-df-spinner {\n",
              "    border: 2px solid var(--fill-color);\n",
              "    border-color: transparent;\n",
              "    border-bottom-color: var(--fill-color);\n",
              "    animation:\n",
              "      spin 1s steps(1) infinite;\n",
              "  }\n",
              "\n",
              "  @keyframes spin {\n",
              "    0% {\n",
              "      border-color: transparent;\n",
              "      border-bottom-color: var(--fill-color);\n",
              "      border-left-color: var(--fill-color);\n",
              "    }\n",
              "    20% {\n",
              "      border-color: transparent;\n",
              "      border-left-color: var(--fill-color);\n",
              "      border-top-color: var(--fill-color);\n",
              "    }\n",
              "    30% {\n",
              "      border-color: transparent;\n",
              "      border-left-color: var(--fill-color);\n",
              "      border-top-color: var(--fill-color);\n",
              "      border-right-color: var(--fill-color);\n",
              "    }\n",
              "    40% {\n",
              "      border-color: transparent;\n",
              "      border-right-color: var(--fill-color);\n",
              "      border-top-color: var(--fill-color);\n",
              "    }\n",
              "    60% {\n",
              "      border-color: transparent;\n",
              "      border-right-color: var(--fill-color);\n",
              "    }\n",
              "    80% {\n",
              "      border-color: transparent;\n",
              "      border-right-color: var(--fill-color);\n",
              "      border-bottom-color: var(--fill-color);\n",
              "    }\n",
              "    90% {\n",
              "      border-color: transparent;\n",
              "      border-bottom-color: var(--fill-color);\n",
              "    }\n",
              "  }\n",
              "</style>\n",
              "\n",
              "  <script>\n",
              "    async function quickchart(key) {\n",
              "      const quickchartButtonEl =\n",
              "        document.querySelector('#' + key + ' button');\n",
              "      quickchartButtonEl.disabled = true;  // To prevent multiple clicks.\n",
              "      quickchartButtonEl.classList.add('colab-df-spinner');\n",
              "      try {\n",
              "        const charts = await google.colab.kernel.invokeFunction(\n",
              "            'suggestCharts', [key], {});\n",
              "      } catch (error) {\n",
              "        console.error('Error during call to suggestCharts:', error);\n",
              "      }\n",
              "      quickchartButtonEl.classList.remove('colab-df-spinner');\n",
              "      quickchartButtonEl.classList.add('colab-df-quickchart-complete');\n",
              "    }\n",
              "    (() => {\n",
              "      let quickchartButtonEl =\n",
              "        document.querySelector('#df-32486161-2e74-45b0-94ac-7fec39c0aa49 button');\n",
              "      quickchartButtonEl.style.display =\n",
              "        google.colab.kernel.accessAllowed ? 'block' : 'none';\n",
              "    })();\n",
              "  </script>\n",
              "</div>\n",
              "    </div>\n",
              "  </div>\n"
            ],
            "application/vnd.google.colaboratory.intrinsic+json": {
              "type": "dataframe",
              "variable_name": "df",
              "summary": "{\n  \"name\": \"df\",\n  \"rows\": 238,\n  \"fields\": [\n    {\n      \"column\": \"user_id\",\n      \"properties\": {\n        \"dtype\": \"number\",\n        \"std\": 68,\n        \"min\": 1,\n        \"max\": 238,\n        \"num_unique_values\": 238,\n        \"samples\": [\n          116,\n          16,\n          213\n        ],\n        \"semantic_type\": \"\",\n        \"description\": \"\"\n      }\n    },\n    {\n      \"column\": \"age\",\n      \"properties\": {\n        \"dtype\": \"number\",\n        \"std\": 9,\n        \"min\": 22,\n        \"max\": 55,\n        \"num_unique_values\": 34,\n        \"samples\": [\n          23,\n          26,\n          51\n        ],\n        \"semantic_type\": \"\",\n        \"description\": \"\"\n      }\n    },\n    {\n      \"column\": \"annual_income\",\n      \"properties\": {\n        \"dtype\": \"number\",\n        \"std\": 11403,\n        \"min\": 30000,\n        \"max\": 75000,\n        \"num_unique_values\": 36,\n        \"samples\": [\n          51000,\n          58000,\n          52000\n        ],\n        \"semantic_type\": \"\",\n        \"description\": \"\"\n      }\n    },\n    {\n      \"column\": \"purchase_amount\",\n      \"properties\": {\n        \"dtype\": \"number\",\n        \"std\": 140,\n        \"min\": 150,\n        \"max\": 640,\n        \"num_unique_values\": 36,\n        \"samples\": [\n          270,\n          420,\n          360\n        ],\n        \"semantic_type\": \"\",\n        \"description\": \"\"\n      }\n    },\n    {\n      \"column\": \"loyalty_score\",\n      \"properties\": {\n        \"dtype\": \"number\",\n        \"std\": 18.990468014330922,\n        \"min\": 30.0,\n        \"max\": 95.0,\n        \"num_unique_values\": 35,\n        \"samples\": [\n          46.0,\n          68.0,\n          83.0\n        ],\n        \"semantic_type\": \"\",\n        \"description\": \"\"\n      }\n    },\n    {\n      \"column\": \"region\",\n      \"properties\": {\n        \"dtype\": \"category\",\n        \"num_unique_values\": 4,\n        \"samples\": [\n          \"South\",\n          \"East\",\n          \"North\"\n        ],\n        \"semantic_type\": \"\",\n        \"description\": \"\"\n      }\n    },\n    {\n      \"column\": \"purchase_frequency\",\n      \"properties\": {\n        \"dtype\": \"number\",\n        \"std\": 4,\n        \"min\": 10,\n        \"max\": 28,\n        \"num_unique_values\": 19,\n        \"samples\": [\n          12,\n          21,\n          23\n        ],\n        \"semantic_type\": \"\",\n        \"description\": \"\"\n      }\n    }\n  ]\n}"
            }
          },
          "metadata": {},
          "execution_count": 22
        }
      ],
      "source": [
        "DF_PATH = '/content/CustomerPurchasingBehaviors.csv'\n",
        "df = pd.read_csv(DF_PATH)\n",
        "df['loyalty_score'] = df['loyalty_score'].apply(lambda x: x * 10)\n",
        "df.head()"
      ]
    },
    {
      "cell_type": "markdown",
      "id": "1d447d6e-cfde-411c-9078-cd8f41f02d8b",
      "metadata": {
        "id": "1d447d6e-cfde-411c-9078-cd8f41f02d8b"
      },
      "source": [
        "8. Какой средний годовой доход у клиентов с уровнем лояльности больше 50 живущих на севере"
      ]
    },
    {
      "cell_type": "code",
      "execution_count": 23,
      "id": "b30df6b1-5eca-43da-a115-1c1a3cbfd899",
      "metadata": {
        "id": "b30df6b1-5eca-43da-a115-1c1a3cbfd899",
        "colab": {
          "base_uri": "https://localhost:8080/"
        },
        "outputId": "fb2f7c72-e423-44e7-e8ac-18e24cb17215"
      },
      "outputs": [
        {
          "output_type": "stream",
          "name": "stdout",
          "text": [
            "Mean annual income:  60146.34146341463\n"
          ]
        }
      ],
      "source": [
        "# nan == 0\n",
        "print(\"Mean annual income: \", df[(df['loyalty_score'] > 50) & (df['region'] == 'North')]['annual_income'].mean())"
      ]
    },
    {
      "cell_type": "markdown",
      "id": "c41d5d99-65f7-4d17-82ae-971ec959f327",
      "metadata": {
        "id": "c41d5d99-65f7-4d17-82ae-971ec959f327"
      },
      "source": [
        "9. Выведите 25 и 75 перцентили уровня лоальности клиентов живущих на западе с частотой покупок более 20 раз в год"
      ]
    },
    {
      "cell_type": "code",
      "execution_count": 24,
      "id": "275bcc04-659b-4521-a9e5-200a5f4ef674",
      "metadata": {
        "id": "275bcc04-659b-4521-a9e5-200a5f4ef674",
        "colab": {
          "base_uri": "https://localhost:8080/"
        },
        "outputId": "32129923-2129-4309-a812-0447431bffb2"
      },
      "outputs": [
        {
          "output_type": "stream",
          "name": "stdout",
          "text": [
            "0.25 quantile:  85.0\n",
            "0.75 quantile:  92.0\n"
          ]
        }
      ],
      "source": [
        "df_slice = df[(df['region'] == 'West') & (df['purchase_frequency'] > 20)]['loyalty_score']\n",
        "print(\"0.25 quantile: \", df_slice.quantile(q=0.25))\n",
        "print(\"0.75 quantile: \", df_slice.quantile(q=0.75))"
      ]
    },
    {
      "cell_type": "markdown",
      "id": "a1f7a5c0-259c-4837-a5d1-2dfc05e7c13e",
      "metadata": {
        "id": "a1f7a5c0-259c-4837-a5d1-2dfc05e7c13e"
      },
      "source": [
        "10. Отличается ли медианный возраст клиентов с уровнем лояльности более 70 и менее 10 для жителей Востока и Севера."
      ]
    },
    {
      "cell_type": "code",
      "execution_count": 25,
      "id": "a2da4d57-edb4-4179-8bee-3deda6cd00e6",
      "metadata": {
        "id": "a2da4d57-edb4-4179-8bee-3deda6cd00e6",
        "colab": {
          "base_uri": "https://localhost:8080/"
        },
        "outputId": "21634864-779c-4695-959a-ddd0d17c8196"
      },
      "outputs": [
        {
          "output_type": "stream",
          "name": "stdout",
          "text": [
            "The median age of North or East residents with loyalty greater than 70:  46.0\n",
            "The median age of North or East residents with loyalty smaller than 10:  nan\n"
          ]
        }
      ],
      "source": [
        "# nan == 0\n",
        "print(\"The median age of North or East residents with loyalty greater than 70: \",\n",
        "      df[(df['loyalty_score'] > 70) & ((df['region'] == 'North') | (df['region'] == 'East'))]['age'].median())\n",
        "print(\"The median age of North or East residents with loyalty smaller than 10: \",\n",
        "      df[(df['loyalty_score'] < 10) & ((df['region'] == 'North') | (df['region'] == 'East'))]['age'].median())"
      ]
    },
    {
      "cell_type": "markdown",
      "id": "deb4ca3a-3d8a-4205-bee9-d26fd28638b2",
      "metadata": {
        "id": "deb4ca3a-3d8a-4205-bee9-d26fd28638b2"
      },
      "source": [
        "### 3. Визуализация"
      ]
    },
    {
      "cell_type": "markdown",
      "id": "f8941ce1-cbf2-465a-b013-1b84aeb999ef",
      "metadata": {
        "id": "f8941ce1-cbf2-465a-b013-1b84aeb999ef"
      },
      "source": [
        "Используя библиотеки matplotlib/sns/plotly/pandas и набор данных представленный ранее визуализируйте"
      ]
    },
    {
      "cell_type": "code",
      "source": [
        "import plotly.express as px"
      ],
      "metadata": {
        "id": "03nf2Uxu1Siz"
      },
      "id": "03nf2Uxu1Siz",
      "execution_count": 26,
      "outputs": []
    },
    {
      "cell_type": "markdown",
      "id": "5e98ce6f-8d02-4120-ad85-241494c038d6",
      "metadata": {
        "id": "5e98ce6f-8d02-4120-ad85-241494c038d6"
      },
      "source": [
        "1. Постройте диаграмму которая отражает средний уровень лояльности во всех регионах"
      ]
    },
    {
      "cell_type": "code",
      "execution_count": 27,
      "id": "664666b2-17b7-49dd-a3bd-c4be9361755d",
      "metadata": {
        "id": "664666b2-17b7-49dd-a3bd-c4be9361755d",
        "colab": {
          "base_uri": "https://localhost:8080/",
          "height": 206
        },
        "outputId": "03ed51b2-1522-4ae9-d712-8a11146435c9"
      },
      "outputs": [
        {
          "output_type": "execute_result",
          "data": {
            "text/plain": [
              "   user_id  age  annual_income  purchase_amount  loyalty_score region  \\\n",
              "0        1   25          45000              200            4.5  North   \n",
              "1        2   34          55000              350            7.0  South   \n",
              "2        3   45          65000              500            8.0   West   \n",
              "3        4   22          30000              150            3.0   East   \n",
              "4        5   29          47000              220            4.8  North   \n",
              "\n",
              "   purchase_frequency  \n",
              "0                  12  \n",
              "1                  18  \n",
              "2                  22  \n",
              "3                  10  \n",
              "4                  13  "
            ],
            "text/html": [
              "\n",
              "  <div id=\"df-34be9999-559a-45e3-ac7a-93f35ed0bee7\" class=\"colab-df-container\">\n",
              "    <div>\n",
              "<style scoped>\n",
              "    .dataframe tbody tr th:only-of-type {\n",
              "        vertical-align: middle;\n",
              "    }\n",
              "\n",
              "    .dataframe tbody tr th {\n",
              "        vertical-align: top;\n",
              "    }\n",
              "\n",
              "    .dataframe thead th {\n",
              "        text-align: right;\n",
              "    }\n",
              "</style>\n",
              "<table border=\"1\" class=\"dataframe\">\n",
              "  <thead>\n",
              "    <tr style=\"text-align: right;\">\n",
              "      <th></th>\n",
              "      <th>user_id</th>\n",
              "      <th>age</th>\n",
              "      <th>annual_income</th>\n",
              "      <th>purchase_amount</th>\n",
              "      <th>loyalty_score</th>\n",
              "      <th>region</th>\n",
              "      <th>purchase_frequency</th>\n",
              "    </tr>\n",
              "  </thead>\n",
              "  <tbody>\n",
              "    <tr>\n",
              "      <th>0</th>\n",
              "      <td>1</td>\n",
              "      <td>25</td>\n",
              "      <td>45000</td>\n",
              "      <td>200</td>\n",
              "      <td>4.5</td>\n",
              "      <td>North</td>\n",
              "      <td>12</td>\n",
              "    </tr>\n",
              "    <tr>\n",
              "      <th>1</th>\n",
              "      <td>2</td>\n",
              "      <td>34</td>\n",
              "      <td>55000</td>\n",
              "      <td>350</td>\n",
              "      <td>7.0</td>\n",
              "      <td>South</td>\n",
              "      <td>18</td>\n",
              "    </tr>\n",
              "    <tr>\n",
              "      <th>2</th>\n",
              "      <td>3</td>\n",
              "      <td>45</td>\n",
              "      <td>65000</td>\n",
              "      <td>500</td>\n",
              "      <td>8.0</td>\n",
              "      <td>West</td>\n",
              "      <td>22</td>\n",
              "    </tr>\n",
              "    <tr>\n",
              "      <th>3</th>\n",
              "      <td>4</td>\n",
              "      <td>22</td>\n",
              "      <td>30000</td>\n",
              "      <td>150</td>\n",
              "      <td>3.0</td>\n",
              "      <td>East</td>\n",
              "      <td>10</td>\n",
              "    </tr>\n",
              "    <tr>\n",
              "      <th>4</th>\n",
              "      <td>5</td>\n",
              "      <td>29</td>\n",
              "      <td>47000</td>\n",
              "      <td>220</td>\n",
              "      <td>4.8</td>\n",
              "      <td>North</td>\n",
              "      <td>13</td>\n",
              "    </tr>\n",
              "  </tbody>\n",
              "</table>\n",
              "</div>\n",
              "    <div class=\"colab-df-buttons\">\n",
              "\n",
              "  <div class=\"colab-df-container\">\n",
              "    <button class=\"colab-df-convert\" onclick=\"convertToInteractive('df-34be9999-559a-45e3-ac7a-93f35ed0bee7')\"\n",
              "            title=\"Convert this dataframe to an interactive table.\"\n",
              "            style=\"display:none;\">\n",
              "\n",
              "  <svg xmlns=\"http://www.w3.org/2000/svg\" height=\"24px\" viewBox=\"0 -960 960 960\">\n",
              "    <path d=\"M120-120v-720h720v720H120Zm60-500h600v-160H180v160Zm220 220h160v-160H400v160Zm0 220h160v-160H400v160ZM180-400h160v-160H180v160Zm440 0h160v-160H620v160ZM180-180h160v-160H180v160Zm440 0h160v-160H620v160Z\"/>\n",
              "  </svg>\n",
              "    </button>\n",
              "\n",
              "  <style>\n",
              "    .colab-df-container {\n",
              "      display:flex;\n",
              "      gap: 12px;\n",
              "    }\n",
              "\n",
              "    .colab-df-convert {\n",
              "      background-color: #E8F0FE;\n",
              "      border: none;\n",
              "      border-radius: 50%;\n",
              "      cursor: pointer;\n",
              "      display: none;\n",
              "      fill: #1967D2;\n",
              "      height: 32px;\n",
              "      padding: 0 0 0 0;\n",
              "      width: 32px;\n",
              "    }\n",
              "\n",
              "    .colab-df-convert:hover {\n",
              "      background-color: #E2EBFA;\n",
              "      box-shadow: 0px 1px 2px rgba(60, 64, 67, 0.3), 0px 1px 3px 1px rgba(60, 64, 67, 0.15);\n",
              "      fill: #174EA6;\n",
              "    }\n",
              "\n",
              "    .colab-df-buttons div {\n",
              "      margin-bottom: 4px;\n",
              "    }\n",
              "\n",
              "    [theme=dark] .colab-df-convert {\n",
              "      background-color: #3B4455;\n",
              "      fill: #D2E3FC;\n",
              "    }\n",
              "\n",
              "    [theme=dark] .colab-df-convert:hover {\n",
              "      background-color: #434B5C;\n",
              "      box-shadow: 0px 1px 3px 1px rgba(0, 0, 0, 0.15);\n",
              "      filter: drop-shadow(0px 1px 2px rgba(0, 0, 0, 0.3));\n",
              "      fill: #FFFFFF;\n",
              "    }\n",
              "  </style>\n",
              "\n",
              "    <script>\n",
              "      const buttonEl =\n",
              "        document.querySelector('#df-34be9999-559a-45e3-ac7a-93f35ed0bee7 button.colab-df-convert');\n",
              "      buttonEl.style.display =\n",
              "        google.colab.kernel.accessAllowed ? 'block' : 'none';\n",
              "\n",
              "      async function convertToInteractive(key) {\n",
              "        const element = document.querySelector('#df-34be9999-559a-45e3-ac7a-93f35ed0bee7');\n",
              "        const dataTable =\n",
              "          await google.colab.kernel.invokeFunction('convertToInteractive',\n",
              "                                                    [key], {});\n",
              "        if (!dataTable) return;\n",
              "\n",
              "        const docLinkHtml = 'Like what you see? Visit the ' +\n",
              "          '<a target=\"_blank\" href=https://colab.research.google.com/notebooks/data_table.ipynb>data table notebook</a>'\n",
              "          + ' to learn more about interactive tables.';\n",
              "        element.innerHTML = '';\n",
              "        dataTable['output_type'] = 'display_data';\n",
              "        await google.colab.output.renderOutput(dataTable, element);\n",
              "        const docLink = document.createElement('div');\n",
              "        docLink.innerHTML = docLinkHtml;\n",
              "        element.appendChild(docLink);\n",
              "      }\n",
              "    </script>\n",
              "  </div>\n",
              "\n",
              "\n",
              "<div id=\"df-7bc47bf3-45c2-4c48-9a72-ed6635149b33\">\n",
              "  <button class=\"colab-df-quickchart\" onclick=\"quickchart('df-7bc47bf3-45c2-4c48-9a72-ed6635149b33')\"\n",
              "            title=\"Suggest charts\"\n",
              "            style=\"display:none;\">\n",
              "\n",
              "<svg xmlns=\"http://www.w3.org/2000/svg\" height=\"24px\"viewBox=\"0 0 24 24\"\n",
              "     width=\"24px\">\n",
              "    <g>\n",
              "        <path d=\"M19 3H5c-1.1 0-2 .9-2 2v14c0 1.1.9 2 2 2h14c1.1 0 2-.9 2-2V5c0-1.1-.9-2-2-2zM9 17H7v-7h2v7zm4 0h-2V7h2v10zm4 0h-2v-4h2v4z\"/>\n",
              "    </g>\n",
              "</svg>\n",
              "  </button>\n",
              "\n",
              "<style>\n",
              "  .colab-df-quickchart {\n",
              "      --bg-color: #E8F0FE;\n",
              "      --fill-color: #1967D2;\n",
              "      --hover-bg-color: #E2EBFA;\n",
              "      --hover-fill-color: #174EA6;\n",
              "      --disabled-fill-color: #AAA;\n",
              "      --disabled-bg-color: #DDD;\n",
              "  }\n",
              "\n",
              "  [theme=dark] .colab-df-quickchart {\n",
              "      --bg-color: #3B4455;\n",
              "      --fill-color: #D2E3FC;\n",
              "      --hover-bg-color: #434B5C;\n",
              "      --hover-fill-color: #FFFFFF;\n",
              "      --disabled-bg-color: #3B4455;\n",
              "      --disabled-fill-color: #666;\n",
              "  }\n",
              "\n",
              "  .colab-df-quickchart {\n",
              "    background-color: var(--bg-color);\n",
              "    border: none;\n",
              "    border-radius: 50%;\n",
              "    cursor: pointer;\n",
              "    display: none;\n",
              "    fill: var(--fill-color);\n",
              "    height: 32px;\n",
              "    padding: 0;\n",
              "    width: 32px;\n",
              "  }\n",
              "\n",
              "  .colab-df-quickchart:hover {\n",
              "    background-color: var(--hover-bg-color);\n",
              "    box-shadow: 0 1px 2px rgba(60, 64, 67, 0.3), 0 1px 3px 1px rgba(60, 64, 67, 0.15);\n",
              "    fill: var(--button-hover-fill-color);\n",
              "  }\n",
              "\n",
              "  .colab-df-quickchart-complete:disabled,\n",
              "  .colab-df-quickchart-complete:disabled:hover {\n",
              "    background-color: var(--disabled-bg-color);\n",
              "    fill: var(--disabled-fill-color);\n",
              "    box-shadow: none;\n",
              "  }\n",
              "\n",
              "  .colab-df-spinner {\n",
              "    border: 2px solid var(--fill-color);\n",
              "    border-color: transparent;\n",
              "    border-bottom-color: var(--fill-color);\n",
              "    animation:\n",
              "      spin 1s steps(1) infinite;\n",
              "  }\n",
              "\n",
              "  @keyframes spin {\n",
              "    0% {\n",
              "      border-color: transparent;\n",
              "      border-bottom-color: var(--fill-color);\n",
              "      border-left-color: var(--fill-color);\n",
              "    }\n",
              "    20% {\n",
              "      border-color: transparent;\n",
              "      border-left-color: var(--fill-color);\n",
              "      border-top-color: var(--fill-color);\n",
              "    }\n",
              "    30% {\n",
              "      border-color: transparent;\n",
              "      border-left-color: var(--fill-color);\n",
              "      border-top-color: var(--fill-color);\n",
              "      border-right-color: var(--fill-color);\n",
              "    }\n",
              "    40% {\n",
              "      border-color: transparent;\n",
              "      border-right-color: var(--fill-color);\n",
              "      border-top-color: var(--fill-color);\n",
              "    }\n",
              "    60% {\n",
              "      border-color: transparent;\n",
              "      border-right-color: var(--fill-color);\n",
              "    }\n",
              "    80% {\n",
              "      border-color: transparent;\n",
              "      border-right-color: var(--fill-color);\n",
              "      border-bottom-color: var(--fill-color);\n",
              "    }\n",
              "    90% {\n",
              "      border-color: transparent;\n",
              "      border-bottom-color: var(--fill-color);\n",
              "    }\n",
              "  }\n",
              "</style>\n",
              "\n",
              "  <script>\n",
              "    async function quickchart(key) {\n",
              "      const quickchartButtonEl =\n",
              "        document.querySelector('#' + key + ' button');\n",
              "      quickchartButtonEl.disabled = true;  // To prevent multiple clicks.\n",
              "      quickchartButtonEl.classList.add('colab-df-spinner');\n",
              "      try {\n",
              "        const charts = await google.colab.kernel.invokeFunction(\n",
              "            'suggestCharts', [key], {});\n",
              "      } catch (error) {\n",
              "        console.error('Error during call to suggestCharts:', error);\n",
              "      }\n",
              "      quickchartButtonEl.classList.remove('colab-df-spinner');\n",
              "      quickchartButtonEl.classList.add('colab-df-quickchart-complete');\n",
              "    }\n",
              "    (() => {\n",
              "      let quickchartButtonEl =\n",
              "        document.querySelector('#df-7bc47bf3-45c2-4c48-9a72-ed6635149b33 button');\n",
              "      quickchartButtonEl.style.display =\n",
              "        google.colab.kernel.accessAllowed ? 'block' : 'none';\n",
              "    })();\n",
              "  </script>\n",
              "</div>\n",
              "    </div>\n",
              "  </div>\n"
            ],
            "application/vnd.google.colaboratory.intrinsic+json": {
              "type": "dataframe",
              "variable_name": "df",
              "summary": "{\n  \"name\": \"df\",\n  \"rows\": 238,\n  \"fields\": [\n    {\n      \"column\": \"user_id\",\n      \"properties\": {\n        \"dtype\": \"number\",\n        \"std\": 68,\n        \"min\": 1,\n        \"max\": 238,\n        \"num_unique_values\": 238,\n        \"samples\": [\n          116,\n          16,\n          213\n        ],\n        \"semantic_type\": \"\",\n        \"description\": \"\"\n      }\n    },\n    {\n      \"column\": \"age\",\n      \"properties\": {\n        \"dtype\": \"number\",\n        \"std\": 9,\n        \"min\": 22,\n        \"max\": 55,\n        \"num_unique_values\": 34,\n        \"samples\": [\n          23,\n          26,\n          51\n        ],\n        \"semantic_type\": \"\",\n        \"description\": \"\"\n      }\n    },\n    {\n      \"column\": \"annual_income\",\n      \"properties\": {\n        \"dtype\": \"number\",\n        \"std\": 11403,\n        \"min\": 30000,\n        \"max\": 75000,\n        \"num_unique_values\": 36,\n        \"samples\": [\n          51000,\n          58000,\n          52000\n        ],\n        \"semantic_type\": \"\",\n        \"description\": \"\"\n      }\n    },\n    {\n      \"column\": \"purchase_amount\",\n      \"properties\": {\n        \"dtype\": \"number\",\n        \"std\": 140,\n        \"min\": 150,\n        \"max\": 640,\n        \"num_unique_values\": 36,\n        \"samples\": [\n          270,\n          420,\n          360\n        ],\n        \"semantic_type\": \"\",\n        \"description\": \"\"\n      }\n    },\n    {\n      \"column\": \"loyalty_score\",\n      \"properties\": {\n        \"dtype\": \"number\",\n        \"std\": 1.8990468014330923,\n        \"min\": 3.0,\n        \"max\": 9.5,\n        \"num_unique_values\": 35,\n        \"samples\": [\n          4.6,\n          6.8,\n          8.3\n        ],\n        \"semantic_type\": \"\",\n        \"description\": \"\"\n      }\n    },\n    {\n      \"column\": \"region\",\n      \"properties\": {\n        \"dtype\": \"category\",\n        \"num_unique_values\": 4,\n        \"samples\": [\n          \"South\",\n          \"East\",\n          \"North\"\n        ],\n        \"semantic_type\": \"\",\n        \"description\": \"\"\n      }\n    },\n    {\n      \"column\": \"purchase_frequency\",\n      \"properties\": {\n        \"dtype\": \"number\",\n        \"std\": 4,\n        \"min\": 10,\n        \"max\": 28,\n        \"num_unique_values\": 19,\n        \"samples\": [\n          12,\n          21,\n          23\n        ],\n        \"semantic_type\": \"\",\n        \"description\": \"\"\n      }\n    }\n  ]\n}"
            }
          },
          "metadata": {},
          "execution_count": 27
        }
      ],
      "source": [
        "DF_PATH = '/content/CustomerPurchasingBehaviors.csv'\n",
        "df = pd.read_csv(DF_PATH)\n",
        "df.head()"
      ]
    },
    {
      "cell_type": "code",
      "source": [
        "fig1_data = df.groupby(by='region')['loyalty_score'].mean()\n",
        "fig1 = px.bar(y=fig1_data.index.tolist(),\n",
        "             x=fig1_data,\n",
        "             orientation='h',\n",
        "             template='simple_white',\n",
        "             title='Mean loyalty by region')\n",
        "\n",
        "fig1.update_layout(yaxis_title='Region',\n",
        "                   xaxis_title='Mean loyalty score',\n",
        "                  title={\n",
        "                      'font': dict(size=35),\n",
        "                      'x': 0.5,\n",
        "                      'y': 0.9\n",
        "                  })\n",
        "fig1.show()"
      ],
      "metadata": {
        "colab": {
          "base_uri": "https://localhost:8080/",
          "height": 542
        },
        "id": "Q70YtTNE4RmN",
        "outputId": "b16b9831-7774-4231-b5ad-1302ffe5e13e"
      },
      "id": "Q70YtTNE4RmN",
      "execution_count": 28,
      "outputs": [
        {
          "output_type": "display_data",
          "data": {
            "text/html": [
              "<html>\n",
              "<head><meta charset=\"utf-8\" /></head>\n",
              "<body>\n",
              "    <div>            <script src=\"https://cdnjs.cloudflare.com/ajax/libs/mathjax/2.7.5/MathJax.js?config=TeX-AMS-MML_SVG\"></script><script type=\"text/javascript\">if (window.MathJax && window.MathJax.Hub && window.MathJax.Hub.Config) {window.MathJax.Hub.Config({SVG: {font: \"STIX-Web\"}});}</script>                <script type=\"text/javascript\">window.PlotlyConfig = {MathJaxConfig: 'local'};</script>\n",
              "        <script charset=\"utf-8\" src=\"https://cdn.plot.ly/plotly-2.24.1.min.js\"></script>                <div id=\"7b67c61a-1052-4346-84e3-0804875486ef\" class=\"plotly-graph-div\" style=\"height:525px; width:100%;\"></div>            <script type=\"text/javascript\">                                    window.PLOTLYENV=window.PLOTLYENV || {};                                    if (document.getElementById(\"7b67c61a-1052-4346-84e3-0804875486ef\")) {                    Plotly.newPlot(                        \"7b67c61a-1052-4346-84e3-0804875486ef\",                        [{\"alignmentgroup\":\"True\",\"hovertemplate\":\"x=%{x}\\u003cbr\\u003ey=%{y}\\u003cextra\\u003e\\u003c\\u002fextra\\u003e\",\"legendgroup\":\"\",\"marker\":{\"color\":\"#1F77B4\",\"pattern\":{\"shape\":\"\"}},\"name\":\"\",\"offsetgroup\":\"\",\"orientation\":\"h\",\"showlegend\":false,\"textposition\":\"auto\",\"x\":[5.3999999999999995,5.865384615384615,6.7259740259740255,7.911688311688312],\"xaxis\":\"x\",\"y\":[\"East\",\"North\",\"South\",\"West\"],\"yaxis\":\"y\",\"type\":\"bar\"}],                        {\"template\":{\"data\":{\"barpolar\":[{\"marker\":{\"line\":{\"color\":\"white\",\"width\":0.5},\"pattern\":{\"fillmode\":\"overlay\",\"size\":10,\"solidity\":0.2}},\"type\":\"barpolar\"}],\"bar\":[{\"error_x\":{\"color\":\"rgb(36,36,36)\"},\"error_y\":{\"color\":\"rgb(36,36,36)\"},\"marker\":{\"line\":{\"color\":\"white\",\"width\":0.5},\"pattern\":{\"fillmode\":\"overlay\",\"size\":10,\"solidity\":0.2}},\"type\":\"bar\"}],\"carpet\":[{\"aaxis\":{\"endlinecolor\":\"rgb(36,36,36)\",\"gridcolor\":\"white\",\"linecolor\":\"white\",\"minorgridcolor\":\"white\",\"startlinecolor\":\"rgb(36,36,36)\"},\"baxis\":{\"endlinecolor\":\"rgb(36,36,36)\",\"gridcolor\":\"white\",\"linecolor\":\"white\",\"minorgridcolor\":\"white\",\"startlinecolor\":\"rgb(36,36,36)\"},\"type\":\"carpet\"}],\"choropleth\":[{\"colorbar\":{\"outlinewidth\":1,\"tickcolor\":\"rgb(36,36,36)\",\"ticks\":\"outside\"},\"type\":\"choropleth\"}],\"contourcarpet\":[{\"colorbar\":{\"outlinewidth\":1,\"tickcolor\":\"rgb(36,36,36)\",\"ticks\":\"outside\"},\"type\":\"contourcarpet\"}],\"contour\":[{\"colorbar\":{\"outlinewidth\":1,\"tickcolor\":\"rgb(36,36,36)\",\"ticks\":\"outside\"},\"colorscale\":[[0.0,\"#440154\"],[0.1111111111111111,\"#482878\"],[0.2222222222222222,\"#3e4989\"],[0.3333333333333333,\"#31688e\"],[0.4444444444444444,\"#26828e\"],[0.5555555555555556,\"#1f9e89\"],[0.6666666666666666,\"#35b779\"],[0.7777777777777778,\"#6ece58\"],[0.8888888888888888,\"#b5de2b\"],[1.0,\"#fde725\"]],\"type\":\"contour\"}],\"heatmapgl\":[{\"colorbar\":{\"outlinewidth\":1,\"tickcolor\":\"rgb(36,36,36)\",\"ticks\":\"outside\"},\"colorscale\":[[0.0,\"#440154\"],[0.1111111111111111,\"#482878\"],[0.2222222222222222,\"#3e4989\"],[0.3333333333333333,\"#31688e\"],[0.4444444444444444,\"#26828e\"],[0.5555555555555556,\"#1f9e89\"],[0.6666666666666666,\"#35b779\"],[0.7777777777777778,\"#6ece58\"],[0.8888888888888888,\"#b5de2b\"],[1.0,\"#fde725\"]],\"type\":\"heatmapgl\"}],\"heatmap\":[{\"colorbar\":{\"outlinewidth\":1,\"tickcolor\":\"rgb(36,36,36)\",\"ticks\":\"outside\"},\"colorscale\":[[0.0,\"#440154\"],[0.1111111111111111,\"#482878\"],[0.2222222222222222,\"#3e4989\"],[0.3333333333333333,\"#31688e\"],[0.4444444444444444,\"#26828e\"],[0.5555555555555556,\"#1f9e89\"],[0.6666666666666666,\"#35b779\"],[0.7777777777777778,\"#6ece58\"],[0.8888888888888888,\"#b5de2b\"],[1.0,\"#fde725\"]],\"type\":\"heatmap\"}],\"histogram2dcontour\":[{\"colorbar\":{\"outlinewidth\":1,\"tickcolor\":\"rgb(36,36,36)\",\"ticks\":\"outside\"},\"colorscale\":[[0.0,\"#440154\"],[0.1111111111111111,\"#482878\"],[0.2222222222222222,\"#3e4989\"],[0.3333333333333333,\"#31688e\"],[0.4444444444444444,\"#26828e\"],[0.5555555555555556,\"#1f9e89\"],[0.6666666666666666,\"#35b779\"],[0.7777777777777778,\"#6ece58\"],[0.8888888888888888,\"#b5de2b\"],[1.0,\"#fde725\"]],\"type\":\"histogram2dcontour\"}],\"histogram2d\":[{\"colorbar\":{\"outlinewidth\":1,\"tickcolor\":\"rgb(36,36,36)\",\"ticks\":\"outside\"},\"colorscale\":[[0.0,\"#440154\"],[0.1111111111111111,\"#482878\"],[0.2222222222222222,\"#3e4989\"],[0.3333333333333333,\"#31688e\"],[0.4444444444444444,\"#26828e\"],[0.5555555555555556,\"#1f9e89\"],[0.6666666666666666,\"#35b779\"],[0.7777777777777778,\"#6ece58\"],[0.8888888888888888,\"#b5de2b\"],[1.0,\"#fde725\"]],\"type\":\"histogram2d\"}],\"histogram\":[{\"marker\":{\"line\":{\"color\":\"white\",\"width\":0.6}},\"type\":\"histogram\"}],\"mesh3d\":[{\"colorbar\":{\"outlinewidth\":1,\"tickcolor\":\"rgb(36,36,36)\",\"ticks\":\"outside\"},\"type\":\"mesh3d\"}],\"parcoords\":[{\"line\":{\"colorbar\":{\"outlinewidth\":1,\"tickcolor\":\"rgb(36,36,36)\",\"ticks\":\"outside\"}},\"type\":\"parcoords\"}],\"pie\":[{\"automargin\":true,\"type\":\"pie\"}],\"scatter3d\":[{\"line\":{\"colorbar\":{\"outlinewidth\":1,\"tickcolor\":\"rgb(36,36,36)\",\"ticks\":\"outside\"}},\"marker\":{\"colorbar\":{\"outlinewidth\":1,\"tickcolor\":\"rgb(36,36,36)\",\"ticks\":\"outside\"}},\"type\":\"scatter3d\"}],\"scattercarpet\":[{\"marker\":{\"colorbar\":{\"outlinewidth\":1,\"tickcolor\":\"rgb(36,36,36)\",\"ticks\":\"outside\"}},\"type\":\"scattercarpet\"}],\"scattergeo\":[{\"marker\":{\"colorbar\":{\"outlinewidth\":1,\"tickcolor\":\"rgb(36,36,36)\",\"ticks\":\"outside\"}},\"type\":\"scattergeo\"}],\"scattergl\":[{\"marker\":{\"colorbar\":{\"outlinewidth\":1,\"tickcolor\":\"rgb(36,36,36)\",\"ticks\":\"outside\"}},\"type\":\"scattergl\"}],\"scattermapbox\":[{\"marker\":{\"colorbar\":{\"outlinewidth\":1,\"tickcolor\":\"rgb(36,36,36)\",\"ticks\":\"outside\"}},\"type\":\"scattermapbox\"}],\"scatterpolargl\":[{\"marker\":{\"colorbar\":{\"outlinewidth\":1,\"tickcolor\":\"rgb(36,36,36)\",\"ticks\":\"outside\"}},\"type\":\"scatterpolargl\"}],\"scatterpolar\":[{\"marker\":{\"colorbar\":{\"outlinewidth\":1,\"tickcolor\":\"rgb(36,36,36)\",\"ticks\":\"outside\"}},\"type\":\"scatterpolar\"}],\"scatter\":[{\"fillpattern\":{\"fillmode\":\"overlay\",\"size\":10,\"solidity\":0.2},\"type\":\"scatter\"}],\"scatterternary\":[{\"marker\":{\"colorbar\":{\"outlinewidth\":1,\"tickcolor\":\"rgb(36,36,36)\",\"ticks\":\"outside\"}},\"type\":\"scatterternary\"}],\"surface\":[{\"colorbar\":{\"outlinewidth\":1,\"tickcolor\":\"rgb(36,36,36)\",\"ticks\":\"outside\"},\"colorscale\":[[0.0,\"#440154\"],[0.1111111111111111,\"#482878\"],[0.2222222222222222,\"#3e4989\"],[0.3333333333333333,\"#31688e\"],[0.4444444444444444,\"#26828e\"],[0.5555555555555556,\"#1f9e89\"],[0.6666666666666666,\"#35b779\"],[0.7777777777777778,\"#6ece58\"],[0.8888888888888888,\"#b5de2b\"],[1.0,\"#fde725\"]],\"type\":\"surface\"}],\"table\":[{\"cells\":{\"fill\":{\"color\":\"rgb(237,237,237)\"},\"line\":{\"color\":\"white\"}},\"header\":{\"fill\":{\"color\":\"rgb(217,217,217)\"},\"line\":{\"color\":\"white\"}},\"type\":\"table\"}]},\"layout\":{\"annotationdefaults\":{\"arrowhead\":0,\"arrowwidth\":1},\"autotypenumbers\":\"strict\",\"coloraxis\":{\"colorbar\":{\"outlinewidth\":1,\"tickcolor\":\"rgb(36,36,36)\",\"ticks\":\"outside\"}},\"colorscale\":{\"diverging\":[[0.0,\"rgb(103,0,31)\"],[0.1,\"rgb(178,24,43)\"],[0.2,\"rgb(214,96,77)\"],[0.3,\"rgb(244,165,130)\"],[0.4,\"rgb(253,219,199)\"],[0.5,\"rgb(247,247,247)\"],[0.6,\"rgb(209,229,240)\"],[0.7,\"rgb(146,197,222)\"],[0.8,\"rgb(67,147,195)\"],[0.9,\"rgb(33,102,172)\"],[1.0,\"rgb(5,48,97)\"]],\"sequential\":[[0.0,\"#440154\"],[0.1111111111111111,\"#482878\"],[0.2222222222222222,\"#3e4989\"],[0.3333333333333333,\"#31688e\"],[0.4444444444444444,\"#26828e\"],[0.5555555555555556,\"#1f9e89\"],[0.6666666666666666,\"#35b779\"],[0.7777777777777778,\"#6ece58\"],[0.8888888888888888,\"#b5de2b\"],[1.0,\"#fde725\"]],\"sequentialminus\":[[0.0,\"#440154\"],[0.1111111111111111,\"#482878\"],[0.2222222222222222,\"#3e4989\"],[0.3333333333333333,\"#31688e\"],[0.4444444444444444,\"#26828e\"],[0.5555555555555556,\"#1f9e89\"],[0.6666666666666666,\"#35b779\"],[0.7777777777777778,\"#6ece58\"],[0.8888888888888888,\"#b5de2b\"],[1.0,\"#fde725\"]]},\"colorway\":[\"#1F77B4\",\"#FF7F0E\",\"#2CA02C\",\"#D62728\",\"#9467BD\",\"#8C564B\",\"#E377C2\",\"#7F7F7F\",\"#BCBD22\",\"#17BECF\"],\"font\":{\"color\":\"rgb(36,36,36)\"},\"geo\":{\"bgcolor\":\"white\",\"lakecolor\":\"white\",\"landcolor\":\"white\",\"showlakes\":true,\"showland\":true,\"subunitcolor\":\"white\"},\"hoverlabel\":{\"align\":\"left\"},\"hovermode\":\"closest\",\"mapbox\":{\"style\":\"light\"},\"paper_bgcolor\":\"white\",\"plot_bgcolor\":\"white\",\"polar\":{\"angularaxis\":{\"gridcolor\":\"rgb(232,232,232)\",\"linecolor\":\"rgb(36,36,36)\",\"showgrid\":false,\"showline\":true,\"ticks\":\"outside\"},\"bgcolor\":\"white\",\"radialaxis\":{\"gridcolor\":\"rgb(232,232,232)\",\"linecolor\":\"rgb(36,36,36)\",\"showgrid\":false,\"showline\":true,\"ticks\":\"outside\"}},\"scene\":{\"xaxis\":{\"backgroundcolor\":\"white\",\"gridcolor\":\"rgb(232,232,232)\",\"gridwidth\":2,\"linecolor\":\"rgb(36,36,36)\",\"showbackground\":true,\"showgrid\":false,\"showline\":true,\"ticks\":\"outside\",\"zeroline\":false,\"zerolinecolor\":\"rgb(36,36,36)\"},\"yaxis\":{\"backgroundcolor\":\"white\",\"gridcolor\":\"rgb(232,232,232)\",\"gridwidth\":2,\"linecolor\":\"rgb(36,36,36)\",\"showbackground\":true,\"showgrid\":false,\"showline\":true,\"ticks\":\"outside\",\"zeroline\":false,\"zerolinecolor\":\"rgb(36,36,36)\"},\"zaxis\":{\"backgroundcolor\":\"white\",\"gridcolor\":\"rgb(232,232,232)\",\"gridwidth\":2,\"linecolor\":\"rgb(36,36,36)\",\"showbackground\":true,\"showgrid\":false,\"showline\":true,\"ticks\":\"outside\",\"zeroline\":false,\"zerolinecolor\":\"rgb(36,36,36)\"}},\"shapedefaults\":{\"fillcolor\":\"black\",\"line\":{\"width\":0},\"opacity\":0.3},\"ternary\":{\"aaxis\":{\"gridcolor\":\"rgb(232,232,232)\",\"linecolor\":\"rgb(36,36,36)\",\"showgrid\":false,\"showline\":true,\"ticks\":\"outside\"},\"baxis\":{\"gridcolor\":\"rgb(232,232,232)\",\"linecolor\":\"rgb(36,36,36)\",\"showgrid\":false,\"showline\":true,\"ticks\":\"outside\"},\"bgcolor\":\"white\",\"caxis\":{\"gridcolor\":\"rgb(232,232,232)\",\"linecolor\":\"rgb(36,36,36)\",\"showgrid\":false,\"showline\":true,\"ticks\":\"outside\"}},\"title\":{\"x\":0.05},\"xaxis\":{\"automargin\":true,\"gridcolor\":\"rgb(232,232,232)\",\"linecolor\":\"rgb(36,36,36)\",\"showgrid\":false,\"showline\":true,\"ticks\":\"outside\",\"title\":{\"standoff\":15},\"zeroline\":false,\"zerolinecolor\":\"rgb(36,36,36)\"},\"yaxis\":{\"automargin\":true,\"gridcolor\":\"rgb(232,232,232)\",\"linecolor\":\"rgb(36,36,36)\",\"showgrid\":false,\"showline\":true,\"ticks\":\"outside\",\"title\":{\"standoff\":15},\"zeroline\":false,\"zerolinecolor\":\"rgb(36,36,36)\"}}},\"xaxis\":{\"anchor\":\"y\",\"domain\":[0.0,1.0],\"title\":{\"text\":\"Mean loyalty score\"}},\"yaxis\":{\"anchor\":\"x\",\"domain\":[0.0,1.0],\"title\":{\"text\":\"Region\"}},\"legend\":{\"tracegroupgap\":0},\"title\":{\"text\":\"Mean loyalty by region\",\"font\":{\"size\":35},\"x\":0.5,\"y\":0.9},\"barmode\":\"relative\"},                        {\"responsive\": true}                    ).then(function(){\n",
              "                            \n",
              "var gd = document.getElementById('7b67c61a-1052-4346-84e3-0804875486ef');\n",
              "var x = new MutationObserver(function (mutations, observer) {{\n",
              "        var display = window.getComputedStyle(gd).display;\n",
              "        if (!display || display === 'none') {{\n",
              "            console.log([gd, 'removed!']);\n",
              "            Plotly.purge(gd);\n",
              "            observer.disconnect();\n",
              "        }}\n",
              "}});\n",
              "\n",
              "// Listen for the removal of the full notebook cells\n",
              "var notebookContainer = gd.closest('#notebook-container');\n",
              "if (notebookContainer) {{\n",
              "    x.observe(notebookContainer, {childList: true});\n",
              "}}\n",
              "\n",
              "// Listen for the clearing of the current output cell\n",
              "var outputEl = gd.closest('.output');\n",
              "if (outputEl) {{\n",
              "    x.observe(outputEl, {childList: true});\n",
              "}}\n",
              "\n",
              "                        })                };                            </script>        </div>\n",
              "</body>\n",
              "</html>"
            ]
          },
          "metadata": {}
        }
      ]
    },
    {
      "cell_type": "markdown",
      "id": "4c7500bb-36ca-4ea7-bc3c-4f15afbd4c41",
      "metadata": {
        "id": "4c7500bb-36ca-4ea7-bc3c-4f15afbd4c41"
      },
      "source": [
        "2. Постройте гистограмму распределения зарплат клиентов на Севере."
      ]
    },
    {
      "cell_type": "code",
      "execution_count": 29,
      "id": "7325e7f8-5f00-4a82-8184-7064505f7ccd",
      "metadata": {
        "id": "7325e7f8-5f00-4a82-8184-7064505f7ccd",
        "colab": {
          "base_uri": "https://localhost:8080/",
          "height": 542
        },
        "outputId": "41276f1a-c586-4578-eabc-d20d4c7ff8da"
      },
      "outputs": [
        {
          "output_type": "display_data",
          "data": {
            "text/html": [
              "<html>\n",
              "<head><meta charset=\"utf-8\" /></head>\n",
              "<body>\n",
              "    <div>            <script src=\"https://cdnjs.cloudflare.com/ajax/libs/mathjax/2.7.5/MathJax.js?config=TeX-AMS-MML_SVG\"></script><script type=\"text/javascript\">if (window.MathJax && window.MathJax.Hub && window.MathJax.Hub.Config) {window.MathJax.Hub.Config({SVG: {font: \"STIX-Web\"}});}</script>                <script type=\"text/javascript\">window.PlotlyConfig = {MathJaxConfig: 'local'};</script>\n",
              "        <script charset=\"utf-8\" src=\"https://cdn.plot.ly/plotly-2.24.1.min.js\"></script>                <div id=\"27dbb77c-4cb8-4459-9450-21a0465b9bc3\" class=\"plotly-graph-div\" style=\"height:525px; width:100%;\"></div>            <script type=\"text/javascript\">                                    window.PLOTLYENV=window.PLOTLYENV || {};                                    if (document.getElementById(\"27dbb77c-4cb8-4459-9450-21a0465b9bc3\")) {                    Plotly.newPlot(                        \"27dbb77c-4cb8-4459-9450-21a0465b9bc3\",                        [{\"alignmentgroup\":\"True\",\"bingroup\":\"x\",\"hovertemplate\":\"annual_income=%{x}\\u003cbr\\u003ecount=%{y}\\u003cextra\\u003e\\u003c\\u002fextra\\u003e\",\"legendgroup\":\"\",\"marker\":{\"color\":\"#1F77B4\",\"pattern\":{\"shape\":\"\"}},\"name\":\"\",\"nbinsx\":10,\"offsetgroup\":\"\",\"orientation\":\"v\",\"showlegend\":false,\"x\":[45000,47000,70000,62000,31000,66000,63000,52000,55000,43000,68000,46000,66000,47000,54000,44000,59000,51000,46000,43000,70000,49000,66000,46000,54000,44000,59000,51000,46000,43000,70000,49000,66000,46000,54000,44000,59000,51000,46000,43000,70000,49000,66000,46000,54000,44000,59000,51000,46000,43000,70000,49000,66000,46000,54000,44000,59000,51000,46000,43000,70000,49000,66000,46000,54000,44000,59000,51000,46000,43000,70000,49000,66000,46000,54000,44000,59000,51000],\"xaxis\":\"x\",\"yaxis\":\"y\",\"type\":\"histogram\"}],                        {\"template\":{\"data\":{\"pie\":[{\"automargin\":true,\"type\":\"pie\"}],\"scatter3d\":[{\"line\":{\"width\":3},\"marker\":{\"size\":9},\"type\":\"scatter3d\"}],\"scattergeo\":[{\"line\":{\"width\":3},\"marker\":{\"size\":9},\"type\":\"scattergeo\"}],\"scattergl\":[{\"line\":{\"width\":3},\"marker\":{\"size\":9},\"type\":\"scattergl\"}],\"scatterpolargl\":[{\"line\":{\"width\":3},\"marker\":{\"size\":9},\"type\":\"scatterpolargl\"}],\"scatterpolar\":[{\"line\":{\"width\":3},\"marker\":{\"size\":9},\"type\":\"scatterpolar\"}],\"scatter\":[{\"line\":{\"width\":3},\"marker\":{\"size\":9},\"type\":\"scatter\"}],\"scatterternary\":[{\"line\":{\"width\":3},\"marker\":{\"size\":9},\"type\":\"scatterternary\"}],\"table\":[{\"cells\":{\"height\":30},\"header\":{\"height\":36},\"type\":\"table\"}]},\"layout\":{\"font\":{\"size\":18},\"xaxis\":{\"title\":{\"standoff\":15}},\"yaxis\":{\"title\":{\"standoff\":15}}}},\"xaxis\":{\"anchor\":\"y\",\"domain\":[0.0,1.0],\"title\":{\"text\":\"annual_income\"}},\"yaxis\":{\"anchor\":\"x\",\"domain\":[0.0,1.0],\"title\":{\"text\":\"count\"}},\"legend\":{\"tracegroupgap\":0},\"title\":{\"text\":\"Distribution of clients salaries in the North\",\"font\":{\"size\":35},\"x\":0.5,\"y\":0.95},\"barmode\":\"relative\"},                        {\"responsive\": true}                    ).then(function(){\n",
              "                            \n",
              "var gd = document.getElementById('27dbb77c-4cb8-4459-9450-21a0465b9bc3');\n",
              "var x = new MutationObserver(function (mutations, observer) {{\n",
              "        var display = window.getComputedStyle(gd).display;\n",
              "        if (!display || display === 'none') {{\n",
              "            console.log([gd, 'removed!']);\n",
              "            Plotly.purge(gd);\n",
              "            observer.disconnect();\n",
              "        }}\n",
              "}});\n",
              "\n",
              "// Listen for the removal of the full notebook cells\n",
              "var notebookContainer = gd.closest('#notebook-container');\n",
              "if (notebookContainer) {{\n",
              "    x.observe(notebookContainer, {childList: true});\n",
              "}}\n",
              "\n",
              "// Listen for the clearing of the current output cell\n",
              "var outputEl = gd.closest('.output');\n",
              "if (outputEl) {{\n",
              "    x.observe(outputEl, {childList: true});\n",
              "}}\n",
              "\n",
              "                        })                };                            </script>        </div>\n",
              "</body>\n",
              "</html>"
            ]
          },
          "metadata": {}
        }
      ],
      "source": [
        "fig2 = px.histogram(df[df['region'] == 'North'], \"annual_income\",\n",
        "                   template='presentation',\n",
        "                   title=\"Distribution of clients salaries in the North\",\n",
        "                   nbins=10)\n",
        "fig2.update_layout(title={\n",
        "                      'font': dict(size=35),\n",
        "                      'x': 0.5,\n",
        "                      'y': 0.95\n",
        "                  })\n",
        "fig2.show()"
      ]
    },
    {
      "cell_type": "markdown",
      "id": "efdd0669-36e0-4708-ac6b-ad0d92881113",
      "metadata": {
        "id": "efdd0669-36e0-4708-ac6b-ad0d92881113"
      },
      "source": [
        "3. Сравните уровни зарплат людей на севере и юге."
      ]
    },
    {
      "cell_type": "code",
      "execution_count": 30,
      "id": "7504a170-04a1-4b86-924d-8d46be16fd3c",
      "metadata": {
        "id": "7504a170-04a1-4b86-924d-8d46be16fd3c",
        "colab": {
          "base_uri": "https://localhost:8080/",
          "height": 542
        },
        "outputId": "f25ca1b7-18fb-438b-fcdb-15ce77df71d1"
      },
      "outputs": [
        {
          "output_type": "display_data",
          "data": {
            "text/html": [
              "<html>\n",
              "<head><meta charset=\"utf-8\" /></head>\n",
              "<body>\n",
              "    <div>            <script src=\"https://cdnjs.cloudflare.com/ajax/libs/mathjax/2.7.5/MathJax.js?config=TeX-AMS-MML_SVG\"></script><script type=\"text/javascript\">if (window.MathJax && window.MathJax.Hub && window.MathJax.Hub.Config) {window.MathJax.Hub.Config({SVG: {font: \"STIX-Web\"}});}</script>                <script type=\"text/javascript\">window.PlotlyConfig = {MathJaxConfig: 'local'};</script>\n",
              "        <script charset=\"utf-8\" src=\"https://cdn.plot.ly/plotly-2.24.1.min.js\"></script>                <div id=\"3dae0237-a37d-4be7-9632-9c1d77c34097\" class=\"plotly-graph-div\" style=\"height:525px; width:100%;\"></div>            <script type=\"text/javascript\">                                    window.PLOTLYENV=window.PLOTLYENV || {};                                    if (document.getElementById(\"3dae0237-a37d-4be7-9632-9c1d77c34097\")) {                    Plotly.newPlot(                        \"3dae0237-a37d-4be7-9632-9c1d77c34097\",                        [{\"alignmentgroup\":\"True\",\"hovertemplate\":\"x=%{x}\\u003cbr\\u003ey=%{y}\\u003cextra\\u003e\\u003c\\u002fextra\\u003e\",\"legendgroup\":\"\",\"marker\":{\"color\":\"#1F77B4\",\"pattern\":{\"shape\":\"\"}},\"name\":\"\",\"offsetgroup\":\"\",\"orientation\":\"h\",\"showlegend\":false,\"textposition\":\"auto\",\"x\":[53038.46153846154,55766.23376623377],\"xaxis\":\"x\",\"y\":[\"North\",\"South\"],\"yaxis\":\"y\",\"type\":\"bar\"}],                        {\"template\":{\"data\":{\"pie\":[{\"automargin\":true,\"type\":\"pie\"}],\"scatter3d\":[{\"line\":{\"width\":3},\"marker\":{\"size\":9},\"type\":\"scatter3d\"}],\"scattergeo\":[{\"line\":{\"width\":3},\"marker\":{\"size\":9},\"type\":\"scattergeo\"}],\"scattergl\":[{\"line\":{\"width\":3},\"marker\":{\"size\":9},\"type\":\"scattergl\"}],\"scatterpolargl\":[{\"line\":{\"width\":3},\"marker\":{\"size\":9},\"type\":\"scatterpolargl\"}],\"scatterpolar\":[{\"line\":{\"width\":3},\"marker\":{\"size\":9},\"type\":\"scatterpolar\"}],\"scatter\":[{\"line\":{\"width\":3},\"marker\":{\"size\":9},\"type\":\"scatter\"}],\"scatterternary\":[{\"line\":{\"width\":3},\"marker\":{\"size\":9},\"type\":\"scatterternary\"}],\"table\":[{\"cells\":{\"height\":30},\"header\":{\"height\":36},\"type\":\"table\"}]},\"layout\":{\"font\":{\"size\":18},\"xaxis\":{\"title\":{\"standoff\":15}},\"yaxis\":{\"title\":{\"standoff\":15}}}},\"xaxis\":{\"anchor\":\"y\",\"domain\":[0.0,1.0],\"title\":{\"text\":\"annual_income\"}},\"yaxis\":{\"anchor\":\"x\",\"domain\":[0.0,1.0],\"title\":{\"text\":\"region\"}},\"legend\":{\"tracegroupgap\":0},\"title\":{\"text\":\"Mean salaries of people in the north and south\",\"font\":{\"size\":35},\"x\":0.5,\"y\":0.95},\"barmode\":\"relative\"},                        {\"responsive\": true}                    ).then(function(){\n",
              "                            \n",
              "var gd = document.getElementById('3dae0237-a37d-4be7-9632-9c1d77c34097');\n",
              "var x = new MutationObserver(function (mutations, observer) {{\n",
              "        var display = window.getComputedStyle(gd).display;\n",
              "        if (!display || display === 'none') {{\n",
              "            console.log([gd, 'removed!']);\n",
              "            Plotly.purge(gd);\n",
              "            observer.disconnect();\n",
              "        }}\n",
              "}});\n",
              "\n",
              "// Listen for the removal of the full notebook cells\n",
              "var notebookContainer = gd.closest('#notebook-container');\n",
              "if (notebookContainer) {{\n",
              "    x.observe(notebookContainer, {childList: true});\n",
              "}}\n",
              "\n",
              "// Listen for the clearing of the current output cell\n",
              "var outputEl = gd.closest('.output');\n",
              "if (outputEl) {{\n",
              "    x.observe(outputEl, {childList: true});\n",
              "}}\n",
              "\n",
              "                        })                };                            </script>        </div>\n",
              "</body>\n",
              "</html>"
            ]
          },
          "metadata": {}
        }
      ],
      "source": [
        "fig3_data = df[(df['region'] == 'North') | (df['region'] == 'South')].groupby(by='region')['annual_income'].mean()\n",
        "fig3 = px.bar(x=fig3_data,\n",
        "              y=fig3_data.index.tolist(),\n",
        "              title='Mean salaries of people in the north and south',\n",
        "              template='presentation',\n",
        "              orientation='h'\n",
        "              )\n",
        "fig3.update_layout(title={\n",
        "                      'font': dict(size=35),\n",
        "                      'x': 0.5,\n",
        "                      'y': 0.95\n",
        "                   },\n",
        "                   xaxis_title='annual_income',\n",
        "                   yaxis_title='region'\n",
        "                   )\n",
        "fig3.show()"
      ]
    },
    {
      "cell_type": "markdown",
      "id": "b5839a48-e992-45fc-81ee-59cb5aa79dda",
      "metadata": {
        "id": "b5839a48-e992-45fc-81ee-59cb5aa79dda"
      },
      "source": [
        "4. Постройте box plot отображающий распределение уровня лояльности для людей до 20 лет, от 20 до 40, от 40 до 60 и старше 60 лет"
      ]
    },
    {
      "cell_type": "code",
      "execution_count": 31,
      "id": "1a942378-45ea-47a0-bac9-488960491613",
      "metadata": {
        "id": "1a942378-45ea-47a0-bac9-488960491613",
        "colab": {
          "base_uri": "https://localhost:8080/",
          "height": 542
        },
        "outputId": "f764c5ea-35e8-43fc-a8ec-c7c4ffd44e80"
      },
      "outputs": [
        {
          "output_type": "display_data",
          "data": {
            "text/html": [
              "<html>\n",
              "<head><meta charset=\"utf-8\" /></head>\n",
              "<body>\n",
              "    <div>            <script src=\"https://cdnjs.cloudflare.com/ajax/libs/mathjax/2.7.5/MathJax.js?config=TeX-AMS-MML_SVG\"></script><script type=\"text/javascript\">if (window.MathJax && window.MathJax.Hub && window.MathJax.Hub.Config) {window.MathJax.Hub.Config({SVG: {font: \"STIX-Web\"}});}</script>                <script type=\"text/javascript\">window.PlotlyConfig = {MathJaxConfig: 'local'};</script>\n",
              "        <script charset=\"utf-8\" src=\"https://cdn.plot.ly/plotly-2.24.1.min.js\"></script>                <div id=\"545296d2-aad6-4068-a517-c7bd4c2465a2\" class=\"plotly-graph-div\" style=\"height:525px; width:100%;\"></div>            <script type=\"text/javascript\">                                    window.PLOTLYENV=window.PLOTLYENV || {};                                    if (document.getElementById(\"545296d2-aad6-4068-a517-c7bd4c2465a2\")) {                    Plotly.newPlot(                        \"545296d2-aad6-4068-a517-c7bd4c2465a2\",                        [{\"alignmentgroup\":\"True\",\"hovertemplate\":\"age_category=%{x}\\u003cbr\\u003eloyalty_score=%{y}\\u003cextra\\u003e\\u003c\\u002fextra\\u003e\",\"legendgroup\":\"\",\"marker\":{\"color\":\"#1F77B4\"},\"name\":\"\",\"notched\":false,\"offsetgroup\":\"\",\"orientation\":\"v\",\"showlegend\":false,\"x\":[\"20 to 40\",\"20 to 40\",\"40 to 60\",\"20 to 40\",\"20 to 40\",\"40 to 60\",\"20 to 40\",\"20 to 40\",\"40 to 60\",\"20 to 40\",\"20 to 40\",\"40 to 60\",\"20 to 40\",\"20 to 40\",\"40 to 60\",\"20 to 40\",\"20 to 40\",\"20 to 40\",\"40 to 60\",\"20 to 40\",\"40 to 60\",\"20 to 40\",\"40 to 60\",\"20 to 40\",\"20 to 40\",\"40 to 60\",\"20 to 40\",\"20 to 40\",\"40 to 60\",\"40 to 60\",\"20 to 40\",\"40 to 60\",\"20 to 40\",\"20 to 40\",\"40 to 60\",\"20 to 40\",\"40 to 60\",\"20 to 40\",\"40 to 60\",\"20 to 40\",\"20 to 40\",\"20 to 40\",\"40 to 60\",\"20 to 40\",\"40 to 60\",\"20 to 40\",\"40 to 60\",\"40 to 60\",\"20 to 40\",\"20 to 40\",\"40 to 60\",\"20 to 40\",\"40 to 60\",\"40 to 60\",\"20 to 40\",\"40 to 60\",\"20 to 40\",\"20 to 40\",\"40 to 60\",\"40 to 60\",\"20 to 40\",\"20 to 40\",\"40 to 60\",\"20 to 40\",\"40 to 60\",\"40 to 60\",\"40 to 60\",\"20 to 40\",\"40 to 60\",\"20 to 40\",\"20 to 40\",\"20 to 40\",\"40 to 60\",\"20 to 40\",\"40 to 60\",\"20 to 40\",\"40 to 60\",\"40 to 60\",\"20 to 40\",\"20 to 40\",\"40 to 60\",\"20 to 40\",\"40 to 60\",\"40 to 60\",\"20 to 40\",\"40 to 60\",\"20 to 40\",\"20 to 40\",\"40 to 60\",\"40 to 60\",\"20 to 40\",\"20 to 40\",\"40 to 60\",\"20 to 40\",\"40 to 60\",\"40 to 60\",\"40 to 60\",\"20 to 40\",\"40 to 60\",\"20 to 40\",\"20 to 40\",\"20 to 40\",\"40 to 60\",\"20 to 40\",\"40 to 60\",\"20 to 40\",\"40 to 60\",\"40 to 60\",\"20 to 40\",\"20 to 40\",\"40 to 60\",\"20 to 40\",\"40 to 60\",\"40 to 60\",\"20 to 40\",\"40 to 60\",\"20 to 40\",\"20 to 40\",\"40 to 60\",\"40 to 60\",\"20 to 40\",\"20 to 40\",\"40 to 60\",\"20 to 40\",\"40 to 60\",\"40 to 60\",\"40 to 60\",\"20 to 40\",\"40 to 60\",\"20 to 40\",\"20 to 40\",\"20 to 40\",\"40 to 60\",\"20 to 40\",\"40 to 60\",\"20 to 40\",\"40 to 60\",\"40 to 60\",\"20 to 40\",\"20 to 40\",\"40 to 60\",\"20 to 40\",\"40 to 60\",\"40 to 60\",\"20 to 40\",\"40 to 60\",\"20 to 40\",\"20 to 40\",\"40 to 60\",\"40 to 60\",\"20 to 40\",\"20 to 40\",\"40 to 60\",\"20 to 40\",\"40 to 60\",\"40 to 60\",\"40 to 60\",\"20 to 40\",\"40 to 60\",\"20 to 40\",\"20 to 40\",\"20 to 40\",\"40 to 60\",\"20 to 40\",\"40 to 60\",\"20 to 40\",\"40 to 60\",\"40 to 60\",\"20 to 40\",\"20 to 40\",\"40 to 60\",\"20 to 40\",\"40 to 60\",\"40 to 60\",\"20 to 40\",\"40 to 60\",\"20 to 40\",\"20 to 40\",\"40 to 60\",\"40 to 60\",\"20 to 40\",\"20 to 40\",\"40 to 60\",\"20 to 40\",\"40 to 60\",\"40 to 60\",\"40 to 60\",\"20 to 40\",\"40 to 60\",\"20 to 40\",\"20 to 40\",\"20 to 40\",\"40 to 60\",\"20 to 40\",\"40 to 60\",\"20 to 40\",\"40 to 60\",\"40 to 60\",\"20 to 40\",\"20 to 40\",\"40 to 60\",\"20 to 40\",\"40 to 60\",\"40 to 60\",\"20 to 40\",\"40 to 60\",\"20 to 40\",\"20 to 40\",\"40 to 60\",\"40 to 60\",\"20 to 40\",\"20 to 40\",\"40 to 60\",\"20 to 40\",\"40 to 60\",\"40 to 60\",\"40 to 60\",\"20 to 40\",\"40 to 60\",\"20 to 40\",\"20 to 40\",\"20 to 40\",\"40 to 60\",\"20 to 40\",\"40 to 60\",\"20 to 40\",\"40 to 60\",\"40 to 60\",\"20 to 40\",\"20 to 40\",\"40 to 60\",\"20 to 40\",\"40 to 60\",\"40 to 60\",\"20 to 40\",\"40 to 60\",\"20 to 40\",\"20 to 40\"],\"x0\":\" \",\"xaxis\":\"x\",\"y\":[4.5,7.0,8.0,3.0,4.8,7.8,6.5,4.2,9.0,5.5,4.4,8.2,6.0,6.8,8.9,3.2,7.0,5.0,8.1,4.3,9.2,3.3,7.5,6.2,6.9,8.3,5.8,4.6,9.0,7.2,6.5,7.8,5.5,4.0,9.5,4.5,8.5,5.0,9.3,4.2,7.0,6.8,8.1,6.0,9.2,4.4,7.8,9.0,6.5,3.3,8.9,4.3,8.0,7.2,6.9,9.4,5.8,5.6,8.2,9.5,4.3,6.0,9.0,4.0,7.8,7.7,9.0,3.3,8.5,5.0,7.0,6.8,8.1,6.0,9.2,4.2,7.8,9.0,6.5,3.3,8.9,4.3,8.0,7.2,6.9,9.4,5.8,5.6,8.2,9.5,4.3,6.0,9.0,4.0,7.8,7.7,9.0,3.3,8.5,5.0,7.0,6.8,8.1,6.0,9.2,4.2,7.8,9.0,6.5,3.3,8.9,4.3,8.0,7.2,6.9,9.4,5.8,5.6,8.2,9.5,4.3,6.0,9.0,4.0,7.8,7.7,9.0,3.3,8.5,5.0,7.0,6.8,8.1,6.0,9.2,4.2,7.8,9.0,6.5,3.3,8.9,4.3,8.0,7.2,6.9,9.4,5.8,5.6,8.2,9.5,4.3,6.0,9.0,4.0,7.8,7.7,9.0,3.3,8.5,5.0,7.0,6.8,8.1,6.0,9.2,4.2,7.8,9.0,6.5,3.3,8.9,4.3,8.0,7.2,6.9,9.4,5.8,5.6,8.2,9.5,4.3,6.0,9.0,4.0,7.8,7.7,9.0,3.3,8.5,5.0,7.0,6.8,8.1,6.0,9.2,4.2,7.8,9.0,6.5,3.3,8.9,4.3,8.0,7.2,6.9,9.4,5.8,5.6,8.2,9.5,4.3,6.0,9.0,4.0,7.8,7.7,9.0,3.3,8.5,5.0,7.0,6.8,8.1,6.0,9.2,4.2,7.8,9.0,6.5,3.3,8.9,4.3,8.0,7.2,6.9,9.4,5.8,5.6],\"y0\":\" \",\"yaxis\":\"y\",\"type\":\"box\",\"quartilemethod\":\"exclusive\"}],                        {\"template\":{\"data\":{\"pie\":[{\"automargin\":true,\"type\":\"pie\"}],\"scatter3d\":[{\"line\":{\"width\":3},\"marker\":{\"size\":9},\"type\":\"scatter3d\"}],\"scattergeo\":[{\"line\":{\"width\":3},\"marker\":{\"size\":9},\"type\":\"scattergeo\"}],\"scattergl\":[{\"line\":{\"width\":3},\"marker\":{\"size\":9},\"type\":\"scattergl\"}],\"scatterpolargl\":[{\"line\":{\"width\":3},\"marker\":{\"size\":9},\"type\":\"scatterpolargl\"}],\"scatterpolar\":[{\"line\":{\"width\":3},\"marker\":{\"size\":9},\"type\":\"scatterpolar\"}],\"scatter\":[{\"line\":{\"width\":3},\"marker\":{\"size\":9},\"type\":\"scatter\"}],\"scatterternary\":[{\"line\":{\"width\":3},\"marker\":{\"size\":9},\"type\":\"scatterternary\"}],\"table\":[{\"cells\":{\"height\":30},\"header\":{\"height\":36},\"type\":\"table\"}]},\"layout\":{\"font\":{\"size\":18},\"xaxis\":{\"title\":{\"standoff\":15}},\"yaxis\":{\"title\":{\"standoff\":15}}}},\"xaxis\":{\"anchor\":\"y\",\"domain\":[0.0,1.0],\"title\":{\"text\":\"age_category\"}},\"yaxis\":{\"anchor\":\"x\",\"domain\":[0.0,1.0],\"title\":{\"text\":\"loyalty_score\"}},\"legend\":{\"tracegroupgap\":0},\"title\":{\"text\":\"Distribution of the loyalty score by age\",\"font\":{\"size\":30},\"x\":0.5,\"y\":0.95},\"boxmode\":\"group\"},                        {\"responsive\": true}                    ).then(function(){\n",
              "                            \n",
              "var gd = document.getElementById('545296d2-aad6-4068-a517-c7bd4c2465a2');\n",
              "var x = new MutationObserver(function (mutations, observer) {{\n",
              "        var display = window.getComputedStyle(gd).display;\n",
              "        if (!display || display === 'none') {{\n",
              "            console.log([gd, 'removed!']);\n",
              "            Plotly.purge(gd);\n",
              "            observer.disconnect();\n",
              "        }}\n",
              "}});\n",
              "\n",
              "// Listen for the removal of the full notebook cells\n",
              "var notebookContainer = gd.closest('#notebook-container');\n",
              "if (notebookContainer) {{\n",
              "    x.observe(notebookContainer, {childList: true});\n",
              "}}\n",
              "\n",
              "// Listen for the clearing of the current output cell\n",
              "var outputEl = gd.closest('.output');\n",
              "if (outputEl) {{\n",
              "    x.observe(outputEl, {childList: true});\n",
              "}}\n",
              "\n",
              "                        })                };                            </script>        </div>\n",
              "</body>\n",
              "</html>"
            ]
          },
          "metadata": {}
        }
      ],
      "source": [
        "def define_category(age: int):\n",
        "  if age < 20:\n",
        "    return \"lower 20\"\n",
        "  elif age >= 20 and age < 40:\n",
        "    return \"20 to 40\"\n",
        "  elif age >= 40 and age < 60:\n",
        "    return \"40 to 60\"\n",
        "\n",
        "  return \"greater 60\"\n",
        "\n",
        "df[\"age_category\"] = df.apply(lambda x: define_category(x['age']), axis=1)\n",
        "\n",
        "fig4 = px.box(df, x=\"age_category\",\n",
        "              y=\"loyalty_score\",\n",
        "              title='Distribution of the loyalty score by age',\n",
        "              template='presentation'\n",
        "              )\n",
        "fig4.update_traces(quartilemethod=\"exclusive\")\n",
        "fig4.update_layout(title={\n",
        "                      'font': dict(size=30),\n",
        "                      'x': 0.5,\n",
        "                      'y': 0.95\n",
        "                  })\n",
        "fig4.show()"
      ]
    },
    {
      "cell_type": "markdown",
      "id": "d4c97bef-bb64-43cc-a89f-7510174492ec",
      "metadata": {
        "id": "d4c97bef-bb64-43cc-a89f-7510174492ec"
      },
      "source": [
        "5. Визуализируйте зависимость частоты покупок от заработка"
      ]
    },
    {
      "cell_type": "code",
      "execution_count": 32,
      "id": "a1f444af-3544-432c-8dc6-bb74d4cff272",
      "metadata": {
        "id": "a1f444af-3544-432c-8dc6-bb74d4cff272",
        "colab": {
          "base_uri": "https://localhost:8080/",
          "height": 542
        },
        "outputId": "95d38e14-099c-45fb-e681-4c924bb084f6"
      },
      "outputs": [
        {
          "output_type": "display_data",
          "data": {
            "text/html": [
              "<html>\n",
              "<head><meta charset=\"utf-8\" /></head>\n",
              "<body>\n",
              "    <div>            <script src=\"https://cdnjs.cloudflare.com/ajax/libs/mathjax/2.7.5/MathJax.js?config=TeX-AMS-MML_SVG\"></script><script type=\"text/javascript\">if (window.MathJax && window.MathJax.Hub && window.MathJax.Hub.Config) {window.MathJax.Hub.Config({SVG: {font: \"STIX-Web\"}});}</script>                <script type=\"text/javascript\">window.PlotlyConfig = {MathJaxConfig: 'local'};</script>\n",
              "        <script charset=\"utf-8\" src=\"https://cdn.plot.ly/plotly-2.24.1.min.js\"></script>                <div id=\"5141fa5a-0b7b-4961-9e10-4526f0d48ea7\" class=\"plotly-graph-div\" style=\"height:525px; width:100%;\"></div>            <script type=\"text/javascript\">                                    window.PLOTLYENV=window.PLOTLYENV || {};                                    if (document.getElementById(\"5141fa5a-0b7b-4961-9e10-4526f0d48ea7\")) {                    Plotly.newPlot(                        \"5141fa5a-0b7b-4961-9e10-4526f0d48ea7\",                        [{\"hovertemplate\":\"annual_income=%{x}\\u003cbr\\u003epurchase_frequency=%{y}\\u003cextra\\u003e\\u003c\\u002fextra\\u003e\",\"legendgroup\":\"\",\"marker\":{\"color\":\"#1F77B4\",\"symbol\":\"circle\"},\"mode\":\"markers\",\"name\":\"\",\"orientation\":\"v\",\"showlegend\":false,\"x\":[45000,55000,65000,30000,47000,61000,54000,43000,70000,50000,46000,62000,53000,58000,69000,31000,57000,49000,66000,44000,72000,32000,63000,56000,59000,67000,52000,48000,71000,60000,55000,64000,50000,43000,75000,45000,68000,49000,73000,46000,57000,58000,66000,53000,72000,47000,61000,70000,54000,32000,69000,44000,65000,60000,59000,74000,52000,51000,62000,75000,46000,53000,71000,43000,63000,61000,70000,32000,68000,49000,57000,58000,66000,53000,72000,46000,61000,70000,54000,32000,69000,44000,65000,60000,59000,74000,52000,51000,62000,75000,46000,53000,71000,43000,63000,61000,70000,32000,68000,49000,57000,58000,66000,53000,72000,46000,61000,70000,54000,32000,69000,44000,65000,60000,59000,74000,52000,51000,62000,75000,46000,53000,71000,43000,63000,61000,70000,32000,68000,49000,57000,58000,66000,53000,72000,46000,61000,70000,54000,32000,69000,44000,65000,60000,59000,74000,52000,51000,62000,75000,46000,53000,71000,43000,63000,61000,70000,32000,68000,49000,57000,58000,66000,53000,72000,46000,61000,70000,54000,32000,69000,44000,65000,60000,59000,74000,52000,51000,62000,75000,46000,53000,71000,43000,63000,61000,70000,32000,68000,49000,57000,58000,66000,53000,72000,46000,61000,70000,54000,32000,69000,44000,65000,60000,59000,74000,52000,51000,62000,75000,46000,53000,71000,43000,63000,61000,70000,32000,68000,49000,57000,58000,66000,53000,72000,46000,61000,70000,54000,32000,69000,44000,65000,60000,59000,74000,52000,51000],\"xaxis\":\"x\",\"y\":[12,18,22,10,13,21,19,14,25,17,15,23,18,20,24,11,21,16,22,14,26,12,21,19,20,23,18,15,25,22,19,21,16,14,28,12,24,17,27,14,21,20,22,18,26,13,21,25,19,11,24,14,22,20,20,27,18,17,23,28,15,18,25,14,21,22,25,11,24,16,21,20,22,18,26,14,21,25,19,11,24,14,22,20,20,27,18,17,23,28,15,18,25,14,21,22,25,11,24,16,21,20,22,18,26,14,21,25,19,11,24,14,22,20,20,27,18,17,23,28,15,18,25,14,21,22,25,11,24,16,21,20,22,18,26,14,21,25,19,11,24,14,22,20,20,27,18,17,23,28,15,18,25,14,21,22,25,11,24,16,21,20,22,18,26,14,21,25,19,11,24,14,22,20,20,27,18,17,23,28,15,18,25,14,21,22,25,11,24,16,21,20,22,18,26,14,21,25,19,11,24,14,22,20,20,27,18,17,23,28,15,18,25,14,21,22,25,11,24,16,21,20,22,18,26,14,21,25,19,11,24,14,22,20,20,27,18,17],\"yaxis\":\"y\",\"type\":\"scatter\"}],                        {\"template\":{\"data\":{\"pie\":[{\"automargin\":true,\"type\":\"pie\"}],\"scatter3d\":[{\"line\":{\"width\":3},\"marker\":{\"size\":9},\"type\":\"scatter3d\"}],\"scattergeo\":[{\"line\":{\"width\":3},\"marker\":{\"size\":9},\"type\":\"scattergeo\"}],\"scattergl\":[{\"line\":{\"width\":3},\"marker\":{\"size\":9},\"type\":\"scattergl\"}],\"scatterpolargl\":[{\"line\":{\"width\":3},\"marker\":{\"size\":9},\"type\":\"scatterpolargl\"}],\"scatterpolar\":[{\"line\":{\"width\":3},\"marker\":{\"size\":9},\"type\":\"scatterpolar\"}],\"scatter\":[{\"line\":{\"width\":3},\"marker\":{\"size\":9},\"type\":\"scatter\"}],\"scatterternary\":[{\"line\":{\"width\":3},\"marker\":{\"size\":9},\"type\":\"scatterternary\"}],\"table\":[{\"cells\":{\"height\":30},\"header\":{\"height\":36},\"type\":\"table\"}]},\"layout\":{\"font\":{\"size\":18},\"xaxis\":{\"title\":{\"standoff\":15}},\"yaxis\":{\"title\":{\"standoff\":15}}}},\"xaxis\":{\"anchor\":\"y\",\"domain\":[0.0,1.0],\"title\":{\"text\":\"annual_income\"}},\"yaxis\":{\"anchor\":\"x\",\"domain\":[0.0,1.0],\"title\":{\"text\":\"purchase_frequency\"}},\"legend\":{\"tracegroupgap\":0},\"title\":{\"text\":\"Dependence of the purchases frequency on annual income\"}},                        {\"responsive\": true}                    ).then(function(){\n",
              "                            \n",
              "var gd = document.getElementById('5141fa5a-0b7b-4961-9e10-4526f0d48ea7');\n",
              "var x = new MutationObserver(function (mutations, observer) {{\n",
              "        var display = window.getComputedStyle(gd).display;\n",
              "        if (!display || display === 'none') {{\n",
              "            console.log([gd, 'removed!']);\n",
              "            Plotly.purge(gd);\n",
              "            observer.disconnect();\n",
              "        }}\n",
              "}});\n",
              "\n",
              "// Listen for the removal of the full notebook cells\n",
              "var notebookContainer = gd.closest('#notebook-container');\n",
              "if (notebookContainer) {{\n",
              "    x.observe(notebookContainer, {childList: true});\n",
              "}}\n",
              "\n",
              "// Listen for the clearing of the current output cell\n",
              "var outputEl = gd.closest('.output');\n",
              "if (outputEl) {{\n",
              "    x.observe(outputEl, {childList: true});\n",
              "}}\n",
              "\n",
              "                        })                };                            </script>        </div>\n",
              "</body>\n",
              "</html>"
            ]
          },
          "metadata": {}
        }
      ],
      "source": [
        "fig5 = px.scatter(df, x=\"annual_income\",\n",
        "                  y=\"purchase_frequency\",\n",
        "                  title=\"Dependence of the purchases frequency on annual income\",\n",
        "                  template='presentation')\n",
        "fig4.update_layout(title={\n",
        "                      'font': dict(size=30),\n",
        "                      'x': 0.5,\n",
        "                      'y': 0.95\n",
        "                  })\n",
        "fig5.show()"
      ]
    },
    {
      "cell_type": "markdown",
      "id": "a2ab764c-8ac1-4c5a-93ad-8168b0eb4934",
      "metadata": {
        "id": "a2ab764c-8ac1-4c5a-93ad-8168b0eb4934"
      },
      "source": [
        "6. Визуализируйте как зависит сумма покупок от зарплаты клиента"
      ]
    },
    {
      "cell_type": "code",
      "execution_count": 33,
      "id": "6449e306-fb6c-46d4-bcd8-b6b76fbf69d2",
      "metadata": {
        "id": "6449e306-fb6c-46d4-bcd8-b6b76fbf69d2",
        "colab": {
          "base_uri": "https://localhost:8080/",
          "height": 542
        },
        "outputId": "ca797802-ddb0-4adc-80ac-b95808b4025f"
      },
      "outputs": [
        {
          "output_type": "display_data",
          "data": {
            "text/html": [
              "<html>\n",
              "<head><meta charset=\"utf-8\" /></head>\n",
              "<body>\n",
              "    <div>            <script src=\"https://cdnjs.cloudflare.com/ajax/libs/mathjax/2.7.5/MathJax.js?config=TeX-AMS-MML_SVG\"></script><script type=\"text/javascript\">if (window.MathJax && window.MathJax.Hub && window.MathJax.Hub.Config) {window.MathJax.Hub.Config({SVG: {font: \"STIX-Web\"}});}</script>                <script type=\"text/javascript\">window.PlotlyConfig = {MathJaxConfig: 'local'};</script>\n",
              "        <script charset=\"utf-8\" src=\"https://cdn.plot.ly/plotly-2.24.1.min.js\"></script>                <div id=\"3718f5d1-9b3e-43bc-9aae-a037b29ffb46\" class=\"plotly-graph-div\" style=\"height:525px; width:100%;\"></div>            <script type=\"text/javascript\">                                    window.PLOTLYENV=window.PLOTLYENV || {};                                    if (document.getElementById(\"3718f5d1-9b3e-43bc-9aae-a037b29ffb46\")) {                    Plotly.newPlot(                        \"3718f5d1-9b3e-43bc-9aae-a037b29ffb46\",                        [{\"hovertemplate\":\"annual_income=%{x}\\u003cbr\\u003epurchase_amount=%{y}\\u003cextra\\u003e\\u003c\\u002fextra\\u003e\",\"legendgroup\":\"\",\"marker\":{\"color\":\"#1F77B4\",\"symbol\":\"circle\"},\"mode\":\"markers\",\"name\":\"\",\"orientation\":\"v\",\"showlegend\":false,\"x\":[45000,55000,65000,30000,47000,61000,54000,43000,70000,50000,46000,62000,53000,58000,69000,31000,57000,49000,66000,44000,72000,32000,63000,56000,59000,67000,52000,48000,71000,60000,55000,64000,50000,43000,75000,45000,68000,49000,73000,46000,57000,58000,66000,53000,72000,47000,61000,70000,54000,32000,69000,44000,65000,60000,59000,74000,52000,51000,62000,75000,46000,53000,71000,43000,63000,61000,70000,32000,68000,49000,57000,58000,66000,53000,72000,46000,61000,70000,54000,32000,69000,44000,65000,60000,59000,74000,52000,51000,62000,75000,46000,53000,71000,43000,63000,61000,70000,32000,68000,49000,57000,58000,66000,53000,72000,46000,61000,70000,54000,32000,69000,44000,65000,60000,59000,74000,52000,51000,62000,75000,46000,53000,71000,43000,63000,61000,70000,32000,68000,49000,57000,58000,66000,53000,72000,46000,61000,70000,54000,32000,69000,44000,65000,60000,59000,74000,52000,51000,62000,75000,46000,53000,71000,43000,63000,61000,70000,32000,68000,49000,57000,58000,66000,53000,72000,46000,61000,70000,54000,32000,69000,44000,65000,60000,59000,74000,52000,51000,62000,75000,46000,53000,71000,43000,63000,61000,70000,32000,68000,49000,57000,58000,66000,53000,72000,46000,61000,70000,54000,32000,69000,44000,65000,60000,59000,74000,52000,51000,62000,75000,46000,53000,71000,43000,63000,61000,70000,32000,68000,49000,57000,58000,66000,53000,72000,46000,61000,70000,54000,32000,69000,44000,65000,60000,59000,74000,52000,51000],\"xaxis\":\"x\",\"y\":[200,350,500,150,220,480,400,230,600,320,250,520,380,420,590,160,440,300,510,240,610,170,460,390,430,530,360,280,600,450,350,470,320,230,640,200,550,300,620,250,440,420,510,380,610,220,480,600,400,170,590,240,500,450,430,630,360,340,520,640,270,380,600,230,470,480,600,170,550,300,440,420,510,380,610,250,480,600,400,170,590,240,500,450,430,630,360,340,520,640,270,380,600,230,470,480,600,170,550,300,440,420,510,380,610,250,480,600,400,170,590,240,500,450,430,630,360,340,520,640,270,380,600,230,470,480,600,170,550,300,440,420,510,380,610,250,480,600,400,170,590,240,500,450,430,630,360,340,520,640,270,380,600,230,470,480,600,170,550,300,440,420,510,380,610,250,480,600,400,170,590,240,500,450,430,630,360,340,520,640,270,380,600,230,470,480,600,170,550,300,440,420,510,380,610,250,480,600,400,170,590,240,500,450,430,630,360,340,520,640,270,380,600,230,470,480,600,170,550,300,440,420,510,380,610,250,480,600,400,170,590,240,500,450,430,630,360,340],\"yaxis\":\"y\",\"type\":\"scatter\"}],                        {\"template\":{\"data\":{\"pie\":[{\"automargin\":true,\"type\":\"pie\"}],\"scatter3d\":[{\"line\":{\"width\":3},\"marker\":{\"size\":9},\"type\":\"scatter3d\"}],\"scattergeo\":[{\"line\":{\"width\":3},\"marker\":{\"size\":9},\"type\":\"scattergeo\"}],\"scattergl\":[{\"line\":{\"width\":3},\"marker\":{\"size\":9},\"type\":\"scattergl\"}],\"scatterpolargl\":[{\"line\":{\"width\":3},\"marker\":{\"size\":9},\"type\":\"scatterpolargl\"}],\"scatterpolar\":[{\"line\":{\"width\":3},\"marker\":{\"size\":9},\"type\":\"scatterpolar\"}],\"scatter\":[{\"line\":{\"width\":3},\"marker\":{\"size\":9},\"type\":\"scatter\"}],\"scatterternary\":[{\"line\":{\"width\":3},\"marker\":{\"size\":9},\"type\":\"scatterternary\"}],\"table\":[{\"cells\":{\"height\":30},\"header\":{\"height\":36},\"type\":\"table\"}]},\"layout\":{\"font\":{\"size\":18},\"xaxis\":{\"title\":{\"standoff\":15}},\"yaxis\":{\"title\":{\"standoff\":15}}}},\"xaxis\":{\"anchor\":\"y\",\"domain\":[0.0,1.0],\"title\":{\"text\":\"annual_income\"}},\"yaxis\":{\"anchor\":\"x\",\"domain\":[0.0,1.0],\"title\":{\"text\":\"purchase_amount\"}},\"legend\":{\"tracegroupgap\":0},\"title\":{\"text\":\"Dependence of the amount of purchases on the client's salary\",\"font\":{\"size\":30},\"x\":0.5,\"y\":0.95}},                        {\"responsive\": true}                    ).then(function(){\n",
              "                            \n",
              "var gd = document.getElementById('3718f5d1-9b3e-43bc-9aae-a037b29ffb46');\n",
              "var x = new MutationObserver(function (mutations, observer) {{\n",
              "        var display = window.getComputedStyle(gd).display;\n",
              "        if (!display || display === 'none') {{\n",
              "            console.log([gd, 'removed!']);\n",
              "            Plotly.purge(gd);\n",
              "            observer.disconnect();\n",
              "        }}\n",
              "}});\n",
              "\n",
              "// Listen for the removal of the full notebook cells\n",
              "var notebookContainer = gd.closest('#notebook-container');\n",
              "if (notebookContainer) {{\n",
              "    x.observe(notebookContainer, {childList: true});\n",
              "}}\n",
              "\n",
              "// Listen for the clearing of the current output cell\n",
              "var outputEl = gd.closest('.output');\n",
              "if (outputEl) {{\n",
              "    x.observe(outputEl, {childList: true});\n",
              "}}\n",
              "\n",
              "                        })                };                            </script>        </div>\n",
              "</body>\n",
              "</html>"
            ]
          },
          "metadata": {}
        }
      ],
      "source": [
        "fig5 = px.scatter(df, y=\"purchase_amount\",\n",
        "                  x=\"annual_income\",\n",
        "                  title=\"Dependence of the amount of purchases on the client's salary\",\n",
        "                  template='presentation')\n",
        "fig5.update_layout(title={\n",
        "                      'font': dict(size=30),\n",
        "                      'x': 0.5,\n",
        "                      'y': 0.95\n",
        "                  })\n",
        "fig5.show()"
      ]
    },
    {
      "cell_type": "markdown",
      "id": "16afdeec-8c90-4ed1-a599-e0b1343bbf5c",
      "metadata": {
        "id": "16afdeec-8c90-4ed1-a599-e0b1343bbf5c"
      },
      "source": [
        "7. Придумайте как визуализировать зависимость между частотой покупок, суммой покупок и скором лояльности *\n",
        "\n",
        "\\* Задание на доп. балл"
      ]
    },
    {
      "cell_type": "code",
      "execution_count": 34,
      "id": "e10d0cc7-a1ca-4204-a875-b1660e44618d",
      "metadata": {
        "id": "e10d0cc7-a1ca-4204-a875-b1660e44618d",
        "colab": {
          "base_uri": "https://localhost:8080/",
          "height": 542
        },
        "outputId": "7cce4f9b-2795-42f2-9938-ce205f2a1d00"
      },
      "outputs": [
        {
          "output_type": "display_data",
          "data": {
            "text/html": [
              "<html>\n",
              "<head><meta charset=\"utf-8\" /></head>\n",
              "<body>\n",
              "    <div>            <script src=\"https://cdnjs.cloudflare.com/ajax/libs/mathjax/2.7.5/MathJax.js?config=TeX-AMS-MML_SVG\"></script><script type=\"text/javascript\">if (window.MathJax && window.MathJax.Hub && window.MathJax.Hub.Config) {window.MathJax.Hub.Config({SVG: {font: \"STIX-Web\"}});}</script>                <script type=\"text/javascript\">window.PlotlyConfig = {MathJaxConfig: 'local'};</script>\n",
              "        <script charset=\"utf-8\" src=\"https://cdn.plot.ly/plotly-2.24.1.min.js\"></script>                <div id=\"f18247f3-f1ff-41a8-9597-8f248e8d1ab4\" class=\"plotly-graph-div\" style=\"height:525px; width:100%;\"></div>            <script type=\"text/javascript\">                                    window.PLOTLYENV=window.PLOTLYENV || {};                                    if (document.getElementById(\"f18247f3-f1ff-41a8-9597-8f248e8d1ab4\")) {                    Plotly.newPlot(                        \"f18247f3-f1ff-41a8-9597-8f248e8d1ab4\",                        [{\"dimensions\":[{\"axis\":{\"matches\":true},\"label\":\"purchase_amount\",\"values\":[200,350,500,150,220,480,400,230,600,320,250,520,380,420,590,160,440,300,510,240,610,170,460,390,430,530,360,280,600,450,350,470,320,230,640,200,550,300,620,250,440,420,510,380,610,220,480,600,400,170,590,240,500,450,430,630,360,340,520,640,270,380,600,230,470,480,600,170,550,300,440,420,510,380,610,250,480,600,400,170,590,240,500,450,430,630,360,340,520,640,270,380,600,230,470,480,600,170,550,300,440,420,510,380,610,250,480,600,400,170,590,240,500,450,430,630,360,340,520,640,270,380,600,230,470,480,600,170,550,300,440,420,510,380,610,250,480,600,400,170,590,240,500,450,430,630,360,340,520,640,270,380,600,230,470,480,600,170,550,300,440,420,510,380,610,250,480,600,400,170,590,240,500,450,430,630,360,340,520,640,270,380,600,230,470,480,600,170,550,300,440,420,510,380,610,250,480,600,400,170,590,240,500,450,430,630,360,340,520,640,270,380,600,230,470,480,600,170,550,300,440,420,510,380,610,250,480,600,400,170,590,240,500,450,430,630,360,340]},{\"axis\":{\"matches\":true},\"label\":\"purchase_frequency\",\"values\":[12,18,22,10,13,21,19,14,25,17,15,23,18,20,24,11,21,16,22,14,26,12,21,19,20,23,18,15,25,22,19,21,16,14,28,12,24,17,27,14,21,20,22,18,26,13,21,25,19,11,24,14,22,20,20,27,18,17,23,28,15,18,25,14,21,22,25,11,24,16,21,20,22,18,26,14,21,25,19,11,24,14,22,20,20,27,18,17,23,28,15,18,25,14,21,22,25,11,24,16,21,20,22,18,26,14,21,25,19,11,24,14,22,20,20,27,18,17,23,28,15,18,25,14,21,22,25,11,24,16,21,20,22,18,26,14,21,25,19,11,24,14,22,20,20,27,18,17,23,28,15,18,25,14,21,22,25,11,24,16,21,20,22,18,26,14,21,25,19,11,24,14,22,20,20,27,18,17,23,28,15,18,25,14,21,22,25,11,24,16,21,20,22,18,26,14,21,25,19,11,24,14,22,20,20,27,18,17,23,28,15,18,25,14,21,22,25,11,24,16,21,20,22,18,26,14,21,25,19,11,24,14,22,20,20,27,18,17]},{\"axis\":{\"matches\":true},\"label\":\"loyalty_score\",\"values\":[4.5,7.0,8.0,3.0,4.8,7.8,6.5,4.2,9.0,5.5,4.4,8.2,6.0,6.8,8.9,3.2,7.0,5.0,8.1,4.3,9.2,3.3,7.5,6.2,6.9,8.3,5.8,4.6,9.0,7.2,6.5,7.8,5.5,4.0,9.5,4.5,8.5,5.0,9.3,4.2,7.0,6.8,8.1,6.0,9.2,4.4,7.8,9.0,6.5,3.3,8.9,4.3,8.0,7.2,6.9,9.4,5.8,5.6,8.2,9.5,4.3,6.0,9.0,4.0,7.8,7.7,9.0,3.3,8.5,5.0,7.0,6.8,8.1,6.0,9.2,4.2,7.8,9.0,6.5,3.3,8.9,4.3,8.0,7.2,6.9,9.4,5.8,5.6,8.2,9.5,4.3,6.0,9.0,4.0,7.8,7.7,9.0,3.3,8.5,5.0,7.0,6.8,8.1,6.0,9.2,4.2,7.8,9.0,6.5,3.3,8.9,4.3,8.0,7.2,6.9,9.4,5.8,5.6,8.2,9.5,4.3,6.0,9.0,4.0,7.8,7.7,9.0,3.3,8.5,5.0,7.0,6.8,8.1,6.0,9.2,4.2,7.8,9.0,6.5,3.3,8.9,4.3,8.0,7.2,6.9,9.4,5.8,5.6,8.2,9.5,4.3,6.0,9.0,4.0,7.8,7.7,9.0,3.3,8.5,5.0,7.0,6.8,8.1,6.0,9.2,4.2,7.8,9.0,6.5,3.3,8.9,4.3,8.0,7.2,6.9,9.4,5.8,5.6,8.2,9.5,4.3,6.0,9.0,4.0,7.8,7.7,9.0,3.3,8.5,5.0,7.0,6.8,8.1,6.0,9.2,4.2,7.8,9.0,6.5,3.3,8.9,4.3,8.0,7.2,6.9,9.4,5.8,5.6,8.2,9.5,4.3,6.0,9.0,4.0,7.8,7.7,9.0,3.3,8.5,5.0,7.0,6.8,8.1,6.0,9.2,4.2,7.8,9.0,6.5,3.3,8.9,4.3,8.0,7.2,6.9,9.4,5.8,5.6]}],\"hovertemplate\":\"%{xaxis.title.text}=%{x}\\u003cbr\\u003e%{yaxis.title.text}=%{y}\\u003cextra\\u003e\\u003c\\u002fextra\\u003e\",\"legendgroup\":\"\",\"marker\":{\"color\":\"#1F77B4\",\"symbol\":\"circle\"},\"name\":\"\",\"showlegend\":false,\"type\":\"splom\"}],                        {\"template\":{\"data\":{\"pie\":[{\"automargin\":true,\"type\":\"pie\"}],\"scatter3d\":[{\"line\":{\"width\":3},\"marker\":{\"size\":9},\"type\":\"scatter3d\"}],\"scattergeo\":[{\"line\":{\"width\":3},\"marker\":{\"size\":9},\"type\":\"scattergeo\"}],\"scattergl\":[{\"line\":{\"width\":3},\"marker\":{\"size\":9},\"type\":\"scattergl\"}],\"scatterpolargl\":[{\"line\":{\"width\":3},\"marker\":{\"size\":9},\"type\":\"scatterpolargl\"}],\"scatterpolar\":[{\"line\":{\"width\":3},\"marker\":{\"size\":9},\"type\":\"scatterpolar\"}],\"scatter\":[{\"line\":{\"width\":3},\"marker\":{\"size\":9},\"type\":\"scatter\"}],\"scatterternary\":[{\"line\":{\"width\":3},\"marker\":{\"size\":9},\"type\":\"scatterternary\"}],\"table\":[{\"cells\":{\"height\":30},\"header\":{\"height\":36},\"type\":\"table\"}]},\"layout\":{\"font\":{\"size\":18},\"xaxis\":{\"title\":{\"standoff\":15}},\"yaxis\":{\"title\":{\"standoff\":15}}}},\"legend\":{\"tracegroupgap\":0},\"margin\":{\"t\":60},\"dragmode\":\"select\",\"font\":{\"family\":\"Courier New\",\"size\":11},\"title\":{\"font\":{\"family\":\"Courier New\"}}},                        {\"responsive\": true}                    ).then(function(){\n",
              "                            \n",
              "var gd = document.getElementById('f18247f3-f1ff-41a8-9597-8f248e8d1ab4');\n",
              "var x = new MutationObserver(function (mutations, observer) {{\n",
              "        var display = window.getComputedStyle(gd).display;\n",
              "        if (!display || display === 'none') {{\n",
              "            console.log([gd, 'removed!']);\n",
              "            Plotly.purge(gd);\n",
              "            observer.disconnect();\n",
              "        }}\n",
              "}});\n",
              "\n",
              "// Listen for the removal of the full notebook cells\n",
              "var notebookContainer = gd.closest('#notebook-container');\n",
              "if (notebookContainer) {{\n",
              "    x.observe(notebookContainer, {childList: true});\n",
              "}}\n",
              "\n",
              "// Listen for the clearing of the current output cell\n",
              "var outputEl = gd.closest('.output');\n",
              "if (outputEl) {{\n",
              "    x.observe(outputEl, {childList: true});\n",
              "}}\n",
              "\n",
              "                        })                };                            </script>        </div>\n",
              "</body>\n",
              "</html>"
            ]
          },
          "metadata": {}
        }
      ],
      "source": [
        "fig6 = px.scatter_matrix(df,\n",
        "                         dimensions=['purchase_amount', 'purchase_frequency', 'loyalty_score'],\n",
        "                         template='presentation')\n",
        "fig6.update_layout(\n",
        "    font_family=\"Courier New\",\n",
        "    title_font_family=\"Courier New\",\n",
        "    font_size=11\n",
        ")\n",
        "fig6.show()"
      ]
    }
  ],
  "metadata": {
    "kernelspec": {
      "display_name": "Python 3 (ipykernel)",
      "language": "python",
      "name": "python3"
    },
    "language_info": {
      "codemirror_mode": {
        "name": "ipython",
        "version": 3
      },
      "file_extension": ".py",
      "mimetype": "text/x-python",
      "name": "python",
      "nbconvert_exporter": "python",
      "pygments_lexer": "ipython3",
      "version": "3.11.7"
    },
    "colab": {
      "provenance": []
    }
  },
  "nbformat": 4,
  "nbformat_minor": 5
}